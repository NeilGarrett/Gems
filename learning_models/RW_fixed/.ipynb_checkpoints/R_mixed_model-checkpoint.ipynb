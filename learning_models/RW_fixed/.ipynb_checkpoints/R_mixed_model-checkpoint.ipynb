{
 "cells": [
  {
   "cell_type": "code",
   "execution_count": 18,
   "metadata": {},
   "outputs": [],
   "source": [
    "library(nlme)"
   ]
  },
  {
   "cell_type": "code",
   "execution_count": 9,
   "metadata": {},
   "outputs": [],
   "source": [
    "library(lme4)\n",
    "library(lmerTest)\n",
    "library(data.table)\n",
    "library(ggplot2)\n"
   ]
  },
  {
   "cell_type": "code",
   "execution_count": 10,
   "metadata": {
    "collapsed": true
   },
   "outputs": [],
   "source": [
    "data = data.table(read.csv('/Users/neil/Dropbox/Daw_Lab/TwoStepAversive/models/model1/trial_data_compile.csv'))\n"
   ]
  },
  {
   "cell_type": "code",
   "execution_count": 35,
   "metadata": {},
   "outputs": [
    {
     "data": {
      "text/plain": [
       "     trial             sub            choice           state      \n",
       " Min.   :  1.00   Min.   : 1.00   Min.   :-99.00   Min.   :1.000  \n",
       " 1st Qu.: 45.00   1st Qu.:10.00   1st Qu.:-99.00   1st Qu.:1.000  \n",
       " Median : 91.00   Median :21.00   Median :  1.00   Median :2.000  \n",
       " Mean   : 90.12   Mean   :20.92   Mean   :-32.31   Mean   :1.511  \n",
       " 3rd Qu.:135.00   3rd Qu.:32.00   3rd Qu.:  2.00   3rd Qu.:2.000  \n",
       " Max.   :180.00   Max.   :41.00   Max.   :  2.00   Max.   :2.000  \n",
       "                                                                  \n",
       "     reward         Q0_raw_left        Q0_raw_right       Q1_raw_left     \n",
       " Min.   :-1.0000   Min.   : -9.2773   Min.   : -21.721   Min.   :-3.5687  \n",
       " 1st Qu.:-1.0000   1st Qu.:  0.8643   1st Qu.:   1.616   1st Qu.:-0.0455  \n",
       " Median : 1.0000   Median :  5.0467   Median :   8.151   Median : 1.7035  \n",
       " Mean   : 0.4727   Mean   : 54.8062   Mean   :  64.626   Mean   : 3.5036  \n",
       " 3rd Qu.: 1.0000   3rd Qu.: 61.6160   3rd Qu.:  66.620   3rd Qu.: 4.7584  \n",
       " Max.   : 1.0000   Max.   :858.2118   Max.   :1054.196   Max.   :34.8871  \n",
       "                                                                          \n",
       "  Q1_raw_right     Q0s2_raw_left    Q0s2_raw_right    Q0_scaled_left    \n",
       " Min.   :-2.6424   Min.   :-5.699   Min.   :-6.6205   Min.   :-0.97744  \n",
       " 1st Qu.: 0.3783   1st Qu.: 0.550   1st Qu.: 0.8293   1st Qu.: 0.02064  \n",
       " Median : 1.8204   Median : 1.952   Median : 2.2856   Median : 0.17912  \n",
       " Mean   : 3.4575   Mean   : 4.162   Mean   : 5.2624   Mean   : 0.25290  \n",
       " 3rd Qu.: 4.6516   3rd Qu.: 5.417   3rd Qu.: 7.8564   3rd Qu.: 0.47887  \n",
       " Max.   :28.1991   Max.   :42.205   Max.   :32.6210   Max.   : 1.00000  \n",
       "                                                                        \n",
       " Q0_scaled_right    Q1_scaled_left     Q1_scaled_right    Q0s2_scaled_left  \n",
       " Min.   :-0.99994   Min.   :-0.99849   Min.   :-0.99997   Min.   :-0.99995  \n",
       " 1st Qu.: 0.05306   1st Qu.:-0.01226   1st Qu.: 0.04187   1st Qu.: 0.04801  \n",
       " Median : 0.28736   Median : 0.20259   Median : 0.23575   Median : 0.34249  \n",
       " Mean   : 0.30173   Mean   : 0.18789   Mean   : 0.26570   Mean   : 0.33546  \n",
       " 3rd Qu.: 0.54524   3rd Qu.: 0.47712   3rd Qu.: 0.56559   3rd Qu.: 0.71319  \n",
       " Max.   : 1.00000   Max.   : 1.00000   Max.   : 1.00000   Max.   : 1.00000  \n",
       "                                                                            \n",
       " Q0s2_scaled_right    PE0_store         PE1_store         PES_store       \n",
       " Min.   :-1.00000   Min.   :-1.9981   Min.   :-2.0000   Min.   :-2.00000  \n",
       " 1st Qu.: 0.09634   1st Qu.:-0.0598   1st Qu.:-0.5291   1st Qu.:-0.26323  \n",
       " Median : 0.45301   Median : 0.1059   Median : 0.4015   Median : 0.26253  \n",
       " Mean   : 0.39864   Mean   : 0.0721   Mean   : 0.0889   Mean   : 0.07384  \n",
       " 3rd Qu.: 0.78394   3rd Qu.: 0.3179   3rd Qu.: 0.7708   3rd Qu.: 0.71277  \n",
       " Max.   : 1.00000   Max.   : 1.9994   Max.   : 2.0000   Max.   : 2.00000  \n",
       "                    NA's   :2210      NA's   :2210                        \n",
       "  PE_cue_store       volatility0        volatility1      volatilityS     \n",
       " Min.   :-1.99599   Min.   :0.000000   Min.   :0.0000   Min.   :0.00000  \n",
       " 1st Qu.: 0.00000   1st Qu.:0.007257   1st Qu.:0.1492   1st Qu.:0.06717  \n",
       " Median : 0.00000   Median :0.054304   Median :0.5691   Median :0.46562  \n",
       " Mean   : 0.03666   Mean   :0.250155   Mean   :0.9070   Mean   :0.84220  \n",
       " 3rd Qu.: 0.05252   3rd Qu.:0.172335   3rd Qu.:1.2255   3rd Qu.:1.11330  \n",
       " Max.   : 1.99995   Max.   :3.997736   Max.   :4.0000   Max.   :4.00000  \n",
       "                                                                         \n",
       " volatility_cue     Q0_raw_encounter   Q0_raw_NOTencounter Q1_raw_encounter \n",
       " Min.   :0.000000   Min.   : -19.175   Min.   : -21.721    Min.   :-3.5687  \n",
       " 1st Qu.:0.000000   1st Qu.:   1.270   1st Qu.:   1.076    1st Qu.: 0.3783  \n",
       " Median :0.000208   Median :   7.282   Median :   5.641    Median : 1.9108  \n",
       " Mean   :0.148977   Mean   :  62.631   Mean   :  56.801    Mean   : 3.7450  \n",
       " 3rd Qu.:0.076126   3rd Qu.:  69.844   3rd Qu.:  60.248    3rd Qu.: 5.1197  \n",
       " Max.   :3.999812   Max.   :1054.196   Max.   :1036.370    Max.   :34.8871  \n",
       "                                                                            \n",
       " Q1_raw_NOTencounter Q0s2_raw_encounter Q0s2_raw_NOTencounter\n",
       " Min.   : -19.175    Min.   :-6.620     Min.   :-5.9684      \n",
       " 1st Qu.:   1.270    1st Qu.: 0.864     1st Qu.: 0.4407      \n",
       " Median :   7.282    Median : 2.242     Median : 1.9410      \n",
       " Mean   :  62.631    Mean   : 4.860     Mean   : 4.5644      \n",
       " 3rd Qu.:  69.844    3rd Qu.: 6.592     3rd Qu.: 6.0284      \n",
       " Max.   :1054.196    Max.   :42.205     Max.   :41.7244      \n",
       "                                                             \n",
       " Q0_scaled_encounter Q0_scaled_NOTencounter Q1_scaled_encounter\n",
       " Min.   :-0.9999     Min.   :-0.99994       Min.   :-0.99997   \n",
       " 1st Qu.: 0.0395     1st Qu.: 0.02132       1st Qu.: 0.04049   \n",
       " Median : 0.2564     Median : 0.21375       Median : 0.26428   \n",
       " Mean   : 0.2908     Mean   : 0.26382       Mean   : 0.26947   \n",
       " 3rd Qu.: 0.5440     3rd Qu.: 0.49701       3rd Qu.: 0.56003   \n",
       " Max.   : 1.0000     Max.   : 1.00000       Max.   : 1.00000   \n",
       "                                                               \n",
       " Q1_scaled_NOTencounter Q0s2_scaled_encounter Q0s2_scaled_NOTencounter\n",
       " Min.   :-0.999522      Min.   :-1.00000      Min.   :-1.00000        \n",
       " 1st Qu.:-0.006045      1st Qu.: 0.08957      1st Qu.: 0.03729        \n",
       " Median : 0.172112      Median : 0.44198      Median : 0.37339        \n",
       " Mean   : 0.184119      Mean   : 0.39890      Mean   : 0.33520        \n",
       " 3rd Qu.: 0.459150      3rd Qu.: 0.79429      3rd Qu.: 0.72122        \n",
       " Max.   : 1.000000      Max.   : 1.00000      Max.   : 1.00000        \n",
       "                                                                      \n",
       " Q0_raw_choosen     Q0_raw_NOTchoosen  Q1_raw_choosen   Q1_raw_NOTchoosen\n",
       " Min.   : -21.721   Min.   : -8.9912   Min.   :-3.569   Min.   :-3.5687  \n",
       " 1st Qu.:   1.852   1st Qu.:  0.5359   1st Qu.: 1.067   1st Qu.:-0.6511  \n",
       " Median :   8.812   Median :  4.1247   Median : 2.370   Median : 1.0000  \n",
       " Mean   :  71.520   Mean   : 48.4748   Mean   : 4.489   Mean   : 2.4855  \n",
       " 3rd Qu.:  77.278   3rd Qu.: 53.1409   3rd Qu.: 5.782   3rd Qu.: 3.4961  \n",
       " Max.   :1054.196   Max.   :858.2118   Max.   :34.887   Max.   :34.8871  \n",
       " NA's   :2210       NA's   :2210       NA's   :2210     NA's   :2210     \n",
       " Q0s2_raw_choosen Q0s2_raw_NOTchoosen   ProbChosen      ProbUnchosen   \n",
       " Min.   :-5.968   Min.   :-6.494      Min.   :0.0226   Min.   :0.0010  \n",
       " 1st Qu.: 1.126   1st Qu.: 0.000      1st Qu.:0.5530   1st Qu.:0.0773  \n",
       " Median : 2.595   Median : 1.596      Median :0.7990   Median :0.2010  \n",
       " Mean   : 5.376   Mean   : 4.090      Mean   :0.7192   Mean   :0.2808  \n",
       " 3rd Qu.: 7.421   3rd Qu.: 5.376      3rd Qu.:0.9227   3rd Qu.:0.4470  \n",
       " Max.   :40.679   Max.   :42.205      Max.   :0.9990   Max.   :0.9774  \n",
       " NA's   :2210     NA's   :2210        NA's   :2210     NA's   :2210    \n",
       " ProbChosen_minus_Unchosen     pupil         pupil_logtrans     high_blinks_CS\n",
       " Min.   :-0.9547           Min.   :0.09043   Min.   :-2.40319   Min.   :0     \n",
       " 1st Qu.: 0.1059           1st Qu.:0.75535   1st Qu.:-0.28058   1st Qu.:0     \n",
       " Median : 0.5980           Median :1.08996   Median : 0.08614   Median :0     \n",
       " Mean   : 0.4384           Mean   :1.25136   Mean   : 0.07092   Mean   :0     \n",
       " 3rd Qu.: 0.8454           3rd Qu.:1.55785   3rd Qu.: 0.44331   3rd Qu.:0     \n",
       " Max.   : 0.9981           Max.   :9.74266   Max.   : 2.27651   Max.   :0     \n",
       " NA's   :2210                                                                 "
      ]
     },
     "metadata": {},
     "output_type": "display_data"
    }
   ],
   "source": [
    "summary(data)"
   ]
  },
  {
   "cell_type": "code",
   "execution_count": 41,
   "metadata": {},
   "outputs": [],
   "source": [
    "#fit_lmeV0 = lme(pupil_logtrans ~ volatility0, random = ~1 + volatility0| sub,  data = data)\n",
    "fit_lmeV1 = lme(pupil_logtrans ~ volatility1, random = ~1 + volatility1| sub,  data = data)\n",
    "fit_lmeVS = lme(pupil_logtrans ~ volatilityS, random = ~1 + volatilityS| sub,  data = data)\n",
    "fit_lmeVC = lme(pupil_logtrans ~ volatility_cue, random = ~1 + volatility_cue| sub,  data = data)\n"
   ]
  },
  {
   "cell_type": "code",
   "execution_count": 42,
   "metadata": {},
   "outputs": [
    {
     "data": {
      "text/plain": [
       "Linear mixed-effects model fit by REML\n",
       " Data: data \n",
       "       AIC      BIC    logLik\n",
       "  9468.076 9508.812 -4728.038\n",
       "\n",
       "Random effects:\n",
       " Formula: ~1 + volatility1 | sub\n",
       " Structure: General positive-definite, Log-Cholesky parametrization\n",
       "            StdDev     Corr  \n",
       "(Intercept) 0.26748592 (Intr)\n",
       "volatility1 0.01685831 -0.466\n",
       "Residual    0.49095579       \n",
       "\n",
       "Fixed effects: pupil_logtrans ~ volatility1 \n",
       "                  Value  Std.Error   DF   t-value p-value\n",
       "(Intercept)  0.08383503 0.04417975 6527  1.897590  0.0578\n",
       "volatility1 -0.01348253 0.00686772 6527 -1.963175  0.0497\n",
       " Correlation: \n",
       "            (Intr)\n",
       "volatility1 -0.3  \n",
       "\n",
       "Standardized Within-Group Residuals:\n",
       "        Min          Q1         Med          Q3         Max \n",
       "-4.31311916 -0.64322688  0.03359427  0.65589853  3.52750719 \n",
       "\n",
       "Number of Observations: 6566\n",
       "Number of Groups: 38 "
      ]
     },
     "metadata": {},
     "output_type": "display_data"
    }
   ],
   "source": [
    "summary(fit_lmeV1)"
   ]
  },
  {
   "cell_type": "code",
   "execution_count": 43,
   "metadata": {},
   "outputs": [
    {
     "data": {
      "text/plain": [
       "Linear mixed-effects model fit by REML\n",
       " Data: data \n",
       "       AIC      BIC    logLik\n",
       "  9458.818 9499.555 -4723.409\n",
       "\n",
       "Random effects:\n",
       " Formula: ~1 + volatilityS | sub\n",
       " Structure: General positive-definite, Log-Cholesky parametrization\n",
       "            StdDev     Corr  \n",
       "(Intercept) 0.26381063 (Intr)\n",
       "volatilityS 0.03214673 -0.139\n",
       "Residual    0.49010087       \n",
       "\n",
       "Fixed effects: pupil_logtrans ~ volatilityS \n",
       "                  Value  Std.Error   DF   t-value p-value\n",
       "(Intercept)  0.08373936 0.04357394 6527  1.921776  0.0547\n",
       "volatilityS -0.01488159 0.00848657 6527 -1.753546  0.0796\n",
       " Correlation: \n",
       "            (Intr)\n",
       "volatilityS -0.183\n",
       "\n",
       "Standardized Within-Group Residuals:\n",
       "        Min          Q1         Med          Q3         Max \n",
       "-4.37299284 -0.63826902  0.02754385  0.65788119  3.58982518 \n",
       "\n",
       "Number of Observations: 6566\n",
       "Number of Groups: 38 "
      ]
     },
     "metadata": {},
     "output_type": "display_data"
    }
   ],
   "source": [
    "summary(fit_lmeVS)"
   ]
  },
  {
   "cell_type": "code",
   "execution_count": 44,
   "metadata": {},
   "outputs": [
    {
     "data": {
      "text/plain": [
       "Linear mixed-effects model fit by REML\n",
       " Data: data \n",
       "       AIC      BIC    logLik\n",
       "  9458.022 9498.759 -4723.011\n",
       "\n",
       "Random effects:\n",
       " Formula: ~1 + volatility_cue | sub\n",
       " Structure: General positive-definite, Log-Cholesky parametrization\n",
       "               StdDev    Corr  \n",
       "(Intercept)    0.2674045 (Intr)\n",
       "volatility_cue 0.1031401 -0.672\n",
       "Residual       0.4902457       \n",
       "\n",
       "Fixed effects: pupil_logtrans ~ volatility_cue \n",
       "                     Value  Std.Error   DF   t-value p-value\n",
       "(Intercept)     0.07441431 0.04386063 6527  1.696608  0.0898\n",
       "volatility_cue -0.03303120 0.02582575 6527 -1.279003  0.2009\n",
       " Correlation: \n",
       "               (Intr)\n",
       "volatility_cue -0.466\n",
       "\n",
       "Standardized Within-Group Residuals:\n",
       "        Min          Q1         Med          Q3         Max \n",
       "-4.24331776 -0.64595896  0.02757817  0.65907918  3.60824181 \n",
       "\n",
       "Number of Observations: 6566\n",
       "Number of Groups: 38 "
      ]
     },
     "metadata": {},
     "output_type": "display_data"
    }
   ],
   "source": [
    "summary(fit_lmeVC)"
   ]
  },
  {
   "cell_type": "code",
   "execution_count": 46,
   "metadata": {},
   "outputs": [
    {
     "ename": "ERROR",
     "evalue": "Error in lme.formula(pupil_logtrans ~ volatility1 * volatilityS, random = ~1 + : nlminb problem, convergence error code = 1\n  message = iteration limit reached without convergence (10)\n",
     "output_type": "error",
     "traceback": [
      "Error in lme.formula(pupil_logtrans ~ volatility1 * volatilityS, random = ~1 + : nlminb problem, convergence error code = 1\n  message = iteration limit reached without convergence (10)\nTraceback:\n",
      "1. lme(pupil_logtrans ~ volatility1 * volatilityS, random = ~1 + \n .     volatility1 * volatilityS | sub, data = data)",
      "2. lme.formula(pupil_logtrans ~ volatility1 * volatilityS, random = ~1 + \n .     volatility1 * volatilityS | sub, data = data)",
      "3. stop(msg, domain = NA)"
     ]
    }
   ],
   "source": [
    "fit_lme_v1_VS = lme(pupil_logtrans ~ volatility1*volatilityS, random = ~1 + volatility1*volatilityS| sub,  data = data)\n"
   ]
  },
  {
   "cell_type": "code",
   "execution_count": null,
   "metadata": {
    "collapsed": true
   },
   "outputs": [],
   "source": []
  }
 ],
 "metadata": {
  "kernelspec": {
   "display_name": "R",
   "language": "R",
   "name": "ir"
  },
  "language_info": {
   "codemirror_mode": "r",
   "file_extension": ".r",
   "mimetype": "text/x-r-source",
   "name": "R",
   "pygments_lexer": "r",
   "version": "3.3.2"
  }
 },
 "nbformat": 4,
 "nbformat_minor": 2
}
