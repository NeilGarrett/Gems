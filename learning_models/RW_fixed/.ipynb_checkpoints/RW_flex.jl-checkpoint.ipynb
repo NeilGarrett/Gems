{
 "cells": [
  {
   "cell_type": "markdown",
   "metadata": {},
   "source": [
    "# Start up commands/load relevant functions"
   ]
  },
  {
   "cell_type": "code",
   "execution_count": 1,
   "metadata": {},
   "outputs": [],
   "source": [
    "parallel = true # Run on multiple CPUs. If you are having trouble, set parallel = false: easier to debug\n",
    "full = false    # Maintain full covariance matrix (vs a diagional one) at the group level\n",
    "emtol = 1e-3    # stopping condition (relative change) for EM\n",
    "\n",
    "using Distributed\n",
    "if (parallel)\n",
    "\t# only run this once\n",
    "\taddprocs()\n",
    "end\n",
    "\n",
    "# this loads the packages needed -- the @everywhere makes sure they \n",
    "# available on all CPUs \n",
    "\n",
    "@everywhere using DataFrames\n",
    "@everywhere using SharedArrays\n",
    "@everywhere using ForwardDiff\n",
    "@everywhere using Optim\n",
    "@everywhere using LinearAlgebra       # for tr, diagonal\n",
    "@everywhere using StatsFuns           # logsumexp\n",
    "@everywhere using SpecialFunctions    # for erf\n",
    "@everywhere using Statistics          # for mean\n",
    "@everywhere using Distributions\n",
    "@everywhere using GLM\n",
    "@everywhere using CSV #for reading/writing csv files\n",
    "\n",
    "# change this to where you keep the Daw's latest em code\n",
    "@everywhere directory = \"/Users/neil/GitHubRepo/Projects/ValueInference/study4_mri/models/em\"\n",
    "\n",
    "#load in functions including em\n",
    "@everywhere include(\"$directory/em.jl\");\n",
    "@everywhere include(\"$directory/common.jl\");\n",
    "@everywhere include(\"$directory/likfuns.jl\");\n"
   ]
  },
  {
   "cell_type": "markdown",
   "metadata": {},
   "source": [
    "# Data read and process"
   ]
  },
  {
   "cell_type": "markdown",
   "metadata": {},
   "source": [
    "### Read in data"
   ]
  },
  {
   "cell_type": "code",
   "execution_count": 2,
   "metadata": {},
   "outputs": [
    {
     "name": "stderr",
     "output_type": "stream",
     "text": [
      "┌ Warning: readtable is deprecated, use CSV.read from the CSV package instead\n",
      "│   caller = top-level scope at In[2]:1\n",
      "└ @ Core In[2]:1\n",
      "┌ Warning: `a::AbstractArray + b::Number` is deprecated, use `a .+ b` instead.\n",
      "│   caller = top-level scope at In[2]:10\n",
      "└ @ Core In[2]:10\n",
      "┌ Warning: `head(df::AbstractDataFrame)` is deprecated, use `first(df, 6)` instead.\n",
      "│   caller = top-level scope at In[2]:22\n",
      "└ @ Core In[2]:22\n"
     ]
    },
    {
     "data": {
      "text/html": [
       "<table class=\"data-frame\"><thead><tr><th></th><th>participantID</th><th>block_n</th><th>trials</th><th>blockType</th><th>forcedTrial</th><th>gem_presented</th><th>market_presented</th><th>door_side</th><th>chooseLeft</th><th>outcomeState</th><th>outcome</th><th>ons_fixation</th><th>ons_door_display</th><th>ons_responsecue</th><th>ons_gem_fixation</th><th>ons_outcome_display</th><th>ons_condition_text</th><th>ons_trigger</th><th>missed_trial</th><th>rew_loss</th><th>rt</th><th>prob_market_presented</th><th>correct_choice</th><th>market_reversal</th><th>pick_black</th><th>black_presented_force</th><th>prob_independent_1</th><th>prob_independent_2</th><th>prob_dependent</th><th>blackFirst</th><th>gem_colour</th><th>sub</th><th>state_chosen</th></tr><tr><th></th><th>Int64⍰</th><th>Int64⍰</th><th>Int64⍰</th><th>Int64⍰</th><th>Int64⍰</th><th>Int64⍰</th><th>Int64</th><th>Int64⍰</th><th>Float64⍰</th><th>Int64⍰</th><th>Float64⍰</th><th>Float64⍰</th><th>Float64⍰</th><th>Float64⍰</th><th>Float64⍰</th><th>Float64⍰</th><th>Float64⍰</th><th>Float64⍰</th><th>Int64⍰</th><th>Int64⍰</th><th>Float64⍰</th><th>Float64⍰</th><th>Float64⍰</th><th>Int64⍰</th><th>Float64⍰</th><th>Float64⍰</th><th>Float64⍰</th><th>Float64⍰</th><th>Float64⍰</th><th>Int64⍰</th><th>Int64⍰</th><th>Int64⍰</th><th>Integer</th></tr></thead><tbody><p>6 rows × 33 columns</p><tr><th>1</th><td>1</td><td>1</td><td>1</td><td>1</td><td>1</td><td>2</td><td>1</td><td>1</td><td>1.0</td><td>2</td><td>0.0</td><td>12435.6</td><td>12440.7</td><td>12443.7</td><td>12445.3</td><td>12448.1</td><td>12432.6</td><td>NaN</td><td>0</td><td>1</td><td>0.658662</td><td>0.8</td><td>NaN</td><td>0</td><td>1.0</td><td>1.0</td><td>0.2</td><td>0.8</td><td>0.8</td><td>1</td><td>2</td><td>1</td><td>1</td></tr><tr><th>2</th><td>1</td><td>1</td><td>2</td><td>1</td><td>0</td><td>2</td><td>1</td><td>2</td><td>1.0</td><td>1</td><td>-1.0</td><td>12450.1</td><td>12452.6</td><td>12456.1</td><td>12457.6</td><td>12461.8</td><td>NaN</td><td>NaN</td><td>0</td><td>-1</td><td>0.599319</td><td>0.8</td><td>0.0</td><td>0</td><td>1.0</td><td>NaN</td><td>0.2</td><td>0.8</td><td>0.8</td><td>-1</td><td>2</td><td>1</td><td>1</td></tr><tr><th>3</th><td>1</td><td>1</td><td>3</td><td>1</td><td>1</td><td>2</td><td>1</td><td>1</td><td>1.0</td><td>2</td><td>0.0</td><td>12463.8</td><td>12466.4</td><td>12468.2</td><td>12469.8</td><td>12474.8</td><td>NaN</td><td>NaN</td><td>0</td><td>1</td><td>0.781297</td><td>0.8</td><td>NaN</td><td>0</td><td>1.0</td><td>1.0</td><td>0.2</td><td>0.8</td><td>0.8</td><td>1</td><td>2</td><td>1</td><td>1</td></tr><tr><th>4</th><td>1</td><td>1</td><td>4</td><td>1</td><td>0</td><td>1</td><td>1</td><td>1</td><td>1.0</td><td>2</td><td>0.0</td><td>12476.8</td><td>12481.7</td><td>12484.1</td><td>12485.6</td><td>12488.7</td><td>NaN</td><td>NaN</td><td>0</td><td>-1</td><td>0.889409</td><td>0.8</td><td>1.0</td><td>0</td><td>2.0</td><td>NaN</td><td>0.2</td><td>0.8</td><td>0.8</td><td>-1</td><td>4</td><td>1</td><td>2</td></tr><tr><th>5</th><td>1</td><td>1</td><td>5</td><td>1</td><td>1</td><td>1</td><td>1</td><td>1</td><td>1.0</td><td>1</td><td>-1.0</td><td>12490.7</td><td>12494.0</td><td>12496.4</td><td>12497.9</td><td>12501.1</td><td>NaN</td><td>NaN</td><td>0</td><td>-1</td><td>0.389441</td><td>0.8</td><td>NaN</td><td>0</td><td>1.0</td><td>1.0</td><td>0.2</td><td>0.8</td><td>0.8</td><td>1</td><td>4</td><td>1</td><td>1</td></tr><tr><th>6</th><td>1</td><td>1</td><td>6</td><td>1</td><td>1</td><td>1</td><td>1</td><td>2</td><td>0.0</td><td>1</td><td>-1.0</td><td>12503.1</td><td>12509.0</td><td>12512.2</td><td>12513.8</td><td>12517.5</td><td>NaN</td><td>NaN</td><td>0</td><td>-1</td><td>0.302638</td><td>0.8</td><td>NaN</td><td>0</td><td>2.0</td><td>0.0</td><td>0.2</td><td>0.8</td><td>0.8</td><td>-1</td><td>4</td><td>1</td><td>2</td></tr></tbody></table>"
      ],
      "text/latex": [
       "\\begin{tabular}{r|ccccccccccccccccccccccccccccccccc}\n",
       "\t& participantID & block\\_n & trials & blockType & forcedTrial & gem\\_presented & market\\_presented & door\\_side & chooseLeft & outcomeState & outcome & ons\\_fixation & ons\\_door\\_display & ons\\_responsecue & ons\\_gem\\_fixation & ons\\_outcome\\_display & ons\\_condition\\_text & ons\\_trigger & missed\\_trial & rew\\_loss & rt & prob\\_market\\_presented & correct\\_choice & market\\_reversal & pick\\_black & black\\_presented\\_force & prob\\_independent\\_1 & prob\\_independent\\_2 & prob\\_dependent & blackFirst & gem\\_colour & sub & state\\_chosen\\\\\n",
       "\t\\hline\n",
       "\t& Int64⍰ & Int64⍰ & Int64⍰ & Int64⍰ & Int64⍰ & Int64⍰ & Int64 & Int64⍰ & Float64⍰ & Int64⍰ & Float64⍰ & Float64⍰ & Float64⍰ & Float64⍰ & Float64⍰ & Float64⍰ & Float64⍰ & Float64⍰ & Int64⍰ & Int64⍰ & Float64⍰ & Float64⍰ & Float64⍰ & Int64⍰ & Float64⍰ & Float64⍰ & Float64⍰ & Float64⍰ & Float64⍰ & Int64⍰ & Int64⍰ & Int64⍰ & Integer\\\\\n",
       "\t\\hline\n",
       "\t1 & 1 & 1 & 1 & 1 & 1 & 2 & 1 & 1 & 1.0 & 2 & 0.0 & 12435.6 & 12440.7 & 12443.7 & 12445.3 & 12448.1 & 12432.6 & NaN & 0 & 1 & 0.658662 & 0.8 & NaN & 0 & 1.0 & 1.0 & 0.2 & 0.8 & 0.8 & 1 & 2 & 1 & 1 \\\\\n",
       "\t2 & 1 & 1 & 2 & 1 & 0 & 2 & 1 & 2 & 1.0 & 1 & -1.0 & 12450.1 & 12452.6 & 12456.1 & 12457.6 & 12461.8 & NaN & NaN & 0 & -1 & 0.599319 & 0.8 & 0.0 & 0 & 1.0 & NaN & 0.2 & 0.8 & 0.8 & -1 & 2 & 1 & 1 \\\\\n",
       "\t3 & 1 & 1 & 3 & 1 & 1 & 2 & 1 & 1 & 1.0 & 2 & 0.0 & 12463.8 & 12466.4 & 12468.2 & 12469.8 & 12474.8 & NaN & NaN & 0 & 1 & 0.781297 & 0.8 & NaN & 0 & 1.0 & 1.0 & 0.2 & 0.8 & 0.8 & 1 & 2 & 1 & 1 \\\\\n",
       "\t4 & 1 & 1 & 4 & 1 & 0 & 1 & 1 & 1 & 1.0 & 2 & 0.0 & 12476.8 & 12481.7 & 12484.1 & 12485.6 & 12488.7 & NaN & NaN & 0 & -1 & 0.889409 & 0.8 & 1.0 & 0 & 2.0 & NaN & 0.2 & 0.8 & 0.8 & -1 & 4 & 1 & 2 \\\\\n",
       "\t5 & 1 & 1 & 5 & 1 & 1 & 1 & 1 & 1 & 1.0 & 1 & -1.0 & 12490.7 & 12494.0 & 12496.4 & 12497.9 & 12501.1 & NaN & NaN & 0 & -1 & 0.389441 & 0.8 & NaN & 0 & 1.0 & 1.0 & 0.2 & 0.8 & 0.8 & 1 & 4 & 1 & 1 \\\\\n",
       "\t6 & 1 & 1 & 6 & 1 & 1 & 1 & 1 & 2 & 0.0 & 1 & -1.0 & 12503.1 & 12509.0 & 12512.2 & 12513.8 & 12517.5 & NaN & NaN & 0 & -1 & 0.302638 & 0.8 & NaN & 0 & 2.0 & 0.0 & 0.2 & 0.8 & 0.8 & -1 & 4 & 1 & 2 \\\\\n",
       "\\end{tabular}\n"
      ],
      "text/plain": [
       "6×33 DataFrame. Omitted printing of 28 columns\n",
       "│ Row │ participantID │ block_n │ trials │ blockType │ forcedTrial │\n",
       "│     │ \u001b[90mInt64⍰\u001b[39m        │ \u001b[90mInt64⍰\u001b[39m  │ \u001b[90mInt64⍰\u001b[39m │ \u001b[90mInt64⍰\u001b[39m    │ \u001b[90mInt64⍰\u001b[39m      │\n",
       "├─────┼───────────────┼─────────┼────────┼───────────┼─────────────┤\n",
       "│ 1   │ 1             │ 1       │ 1      │ 1         │ 1           │\n",
       "│ 2   │ 1             │ 1       │ 2      │ 1         │ 0           │\n",
       "│ 3   │ 1             │ 1       │ 3      │ 1         │ 1           │\n",
       "│ 4   │ 1             │ 1       │ 4      │ 1         │ 0           │\n",
       "│ 5   │ 1             │ 1       │ 5      │ 1         │ 1           │\n",
       "│ 6   │ 1             │ 1       │ 6      │ 1         │ 1           │"
      ]
     },
     "execution_count": 2,
     "metadata": {},
     "output_type": "execute_result"
    }
   ],
   "source": [
    "#read in data\n",
    "df = readtable(\"/Users/Neil/GitHubRepo/Projects/ValueInference/study4_mri/data/gem_dat.csv\")\n",
    "\n",
    "#get rid of missed responses\n",
    "df = df[df[:missed_trial].!=1,:]\n",
    "\n",
    "#add \"sub column\" \n",
    "# this is just a replica of the existing column sub_no but I think em looks for \"sub\" specifically\n",
    "df[:sub] = df[:participantID];\n",
    "\n",
    "#change coding so that 1 = market 1 in dependent condition,\n",
    "#2 and 3 refer to the two markets in the independent condition\n",
    "df[:market_presented] = df[:market_presented] + 1\n",
    "df[df[:blockType].==1,:market_presented] = 1\n",
    "\n",
    "#code picking white as 2, picking black as 1\n",
    "df[:state_chosen] = df[:pick_black]\n",
    "df[df[:state_chosen].==0, :state_chosen] = 2\n",
    "\n",
    "#convert this so can use in model\n",
    "df[:state_chosen] = convert(Vector{Integer}, df[:state_chosen])\n",
    "\n",
    "head(df)"
   ]
  },
  {
   "cell_type": "code",
   "execution_count": 3,
   "metadata": {},
   "outputs": [],
   "source": [
    "#exlude subs 21 and 28..\n",
    "\n",
    "df = df[df[:participantID].!=21,:];\n",
    "df = df[df[:participantID].!=28,:];\n"
   ]
  },
  {
   "cell_type": "code",
   "execution_count": 4,
   "metadata": {},
   "outputs": [
    {
     "data": {
      "text/plain": [
       "-1"
      ]
     },
     "execution_count": 4,
     "metadata": {},
     "output_type": "execute_result"
    }
   ],
   "source": [
    "#use recoded condition variable in the model\n",
    "df[:condition_recode] = df[:blockType]\n",
    "df[df[:condition_recode].==2,:condition_recode] = -1\n",
    "\n",
    "#now "
   ]
  },
  {
   "cell_type": "markdown",
   "metadata": {},
   "source": [
    "# RL Model"
   ]
  },
  {
   "cell_type": "code",
   "execution_count": 5,
   "metadata": {},
   "outputs": [],
   "source": [
    "@everywhere function rl_model(params, data)\n",
    "    \n",
    "    #model parameteres\n",
    "\tbeta_mb = params[1] \n",
    "    w_slope = params[2]\n",
    "    lr =  0.5 .+ 0.5.*erf(params[3]/sqrt(2))\n",
    "   \n",
    "    c1 = data[:state_chosen] # choice: 1 = black door, 2 = white door\n",
    "    r = data[:outcome] # outcome: coded as +1 = gain, -1 = loss, 0 = neutral \n",
    "    s = data[:outcomeState] # stage 2 state: coded as 1 = gain/loss state reached, 2 = neutral state reached\n",
    "    t = data[:trials] # trial number\n",
    "    sub = data[:sub] # subject number\n",
    "    condition = data[:condition_recode] # condition: 1 = dependent, -1=independent\n",
    "    gem = data[:gem_presented] #gem presented\n",
    "    market = data[:market_presented] #market presented\n",
    "    reward_loss_trial = data[:rew_loss]\n",
    "    force_t = data[:forcedTrial]\n",
    "    block_n = data[:block_n]\n",
    "    blackFirst = data[:blackFirst]\n",
    "    \n",
    "    SR_m = zeros(typeof(beta_mb), 2) .+ 0.5 #initalise to 0.5. stores estimates of transition probabilities for black/white door going to reward/loss state \n",
    "    SR_gem = zeros(typeof(beta_mb), 4) .+ 0.5 #initalise to 0.5. stores estimates of transition probabilities for black/white door going to reward/loss state \n",
    "   \n",
    "\tQmb = zeros(typeof(beta_mb), 2) #decision variable\n",
    "    \n",
    "    #encode in the frame of getting to the rl state\n",
    "    prob_rl_chosen_m = [];\n",
    "    prob_rl_unchosen_m = [];\n",
    "    \n",
    "    prob_rl_chosen_gem = [];\n",
    "    prob_rl_unchosen_gem = [];\n",
    "    \n",
    "    prob_combined_rl_chosen_compile = [];\n",
    "\n",
    "    prob_rl_doorpresented_m = [];\n",
    "    prob_rl_doorpresented_gem = [];\n",
    "    prob_combined_rl_doorpresented = [];\n",
    "   \n",
    "    SPE_raw_compile_signed = [];\n",
    "    SPE_raw_compile_abs = [];\n",
    "    SR_m_change_compile_signed = [];\n",
    "    SR_m_change_compile_abs = [];\n",
    "    SR_gem_change_compile_signed = [];\n",
    "    SR_gem_change_compile_abs = [];\n",
    "    \n",
    "    # initialize likelihood\n",
    "    lik = 0 \n",
    "    \n",
    "\tfor i = 1:length(c1)\n",
    " \n",
    "        w_raw = w_slope*(condition[i])\n",
    "        w = 0.5 .+ 0.5.*erf(w_raw/sqrt(2))\n",
    "        \n",
    "        if gem[i]<3\n",
    "            index = 1            \n",
    "        else\n",
    "            index = 2\n",
    "        end\n",
    "        \n",
    "        Vtot = w*SR_m[index] .+ (1-w)*SR_gem[gem[i]]\n",
    "        \n",
    "        Qmb = [Vtot.*reward_loss_trial[i], (1-Vtot).*reward_loss_trial[i]]\n",
    "        \n",
    "         if (c1[i]==1)\n",
    "            append!(prob_rl_chosen_m, SR_m[index]); append!(prob_rl_unchosen_m, 1-SR_m[index]);\n",
    "            append!(prob_rl_chosen_gem, SR_gem[gem[i]]); append!(prob_rl_unchosen_gem, 1-SR_gem[gem[i]]);\n",
    "            append!(prob_combined_rl_chosen_compile, Vtot); \n",
    "        elseif (c1[i]==2)\n",
    "            append!(prob_rl_chosen_m, 1-SR_m[index]); append!(prob_rl_unchosen_m, SR_m[index]);\n",
    "            append!(prob_rl_chosen_gem, 1-SR_gem[gem[i]]); append!(prob_rl_unchosen_gem, SR_gem[gem[i]]);\n",
    "            append!(prob_combined_rl_chosen_compile, 1-Vtot); \n",
    "        end\n",
    "        \n",
    "        if (blackFirst[i]==1)\n",
    "            append!(prob_rl_doorpresented_m, SR_m[index]); \n",
    "            append!(prob_rl_doorpresented_gem, SR_gem[gem[i]]); \n",
    "            append!(prob_combined_rl_doorpresented, Vtot); \n",
    "        elseif (blackFirst[i]==-1)\n",
    "            append!(prob_rl_doorpresented_m, 1-SR_m[index]); \n",
    "            append!(prob_rl_doorpresented_gem, 1-SR_gem[gem[i]]); \n",
    "            append!(prob_combined_rl_doorpresented, 1-Vtot);         \n",
    "        end\n",
    "            \n",
    "        if (force_t[i] == 0)\n",
    "            \n",
    "            #Q-values that determine the decision\n",
    "            Qd = beta_mb.*Qmb\n",
    "            lik += Qd[c1[i]] .- log(sum(exp.(Qd)))\n",
    "            \n",
    "        else\n",
    "        end\n",
    "        \n",
    "        SR_m_prev = SR_m[index]\n",
    "        SR_gem_prev = SR_gem[gem[i]]\n",
    "        \n",
    "        # updates go in here - these are updates of probability estimates (not contingent on outcome)\n",
    "        if (s[i]==1 & c1[i]==1)\n",
    "            \n",
    "            SPE_raw = 1-Vtot\n",
    "            SR_m[index] = SR_m[index] .+ w*lr*(1-Vtot)\n",
    "            SR_gem[gem[i]] = SR_gem[gem[i]] .+ (1-w)*lr*(1-Vtot)\n",
    "            \n",
    "        elseif (s[i]==2 & c1[i]==2)\n",
    "            \n",
    "            SPE_raw = 1-Vtot\n",
    "            SR_m[index] = SR_m[index] .+ w*lr*(1-Vtot)\n",
    "            SR_gem[gem[i]] = SR_gem[gem[i]] .+ (1-w)*lr*(1-Vtot)\n",
    "            \n",
    "        else\n",
    "\n",
    "            SPE_raw = 0-Vtot\n",
    "            SR_m[index] = SR_m[index] .+ w*lr*(0-Vtot)\n",
    "            SR_gem[gem[i]] = SR_gem[gem[i]] .+ (1-w)*lr*(0-Vtot)\n",
    "            \n",
    "        end\n",
    "        \n",
    "        if (SR_m[index]>1)\n",
    "            SR_m[index] = 1\n",
    "        elseif (SR_m[index]<0)\n",
    "            SR_m[index] = 0\n",
    "        end\n",
    "        \n",
    "        if (SR_gem[gem[i]]>1)\n",
    "            SR_gem[gem[i]] = 1\n",
    "        elseif (SR_gem[gem[i]]<0)\n",
    "            SR_gem[gem[i]] = 0\n",
    "        end\n",
    "        \n",
    "            \n",
    "        append!(SPE_raw_compile_signed, SPE_raw)\n",
    "        append!(SPE_raw_compile_abs, abs(SPE_raw))\n",
    "        append!(SR_m_change_compile_signed, SR_m[index] - SR_m_prev)  \n",
    "        append!(SR_m_change_compile_abs, abs(SR_m[index] - SR_m_prev))  \n",
    "        append!(SR_gem_change_compile_signed, SR_gem[gem[i]] - SR_gem_prev)   \n",
    "        append!(SR_gem_change_compile_abs, abs(SR_gem[gem[i]] - SR_gem_prev))\n",
    "        \n",
    "\tend\n",
    "    \n",
    "    #compile trial by trial values here\n",
    "    trial_data = DataFrame(trial = t,\n",
    "    sub = sub,\n",
    "    block_n = block_n,\n",
    "    choice = c1,\n",
    "    blackpresented = blackFirst,\n",
    "    outcomeState = s,\n",
    "    outcome = r,\n",
    "    gem = gem,\n",
    "    condition = condition,\n",
    "    market = market,\n",
    "    force_t = force_t,\n",
    "    prob_rl_chosen_m = prob_rl_chosen_m,\n",
    "    prob_rl_unchosen_m = prob_rl_unchosen_m,\n",
    "    prob_rl_chosen_gem = prob_rl_chosen_gem,\n",
    "    prob_rl_unchosen_gem = prob_rl_unchosen_gem,\n",
    "    prob_combined_rl_chosen = prob_combined_rl_chosen_compile,\n",
    "    prob_rl_doorpresented_m = prob_rl_doorpresented_m,\n",
    "    prob_rl_doorpresented_gem = prob_rl_doorpresented_gem,\n",
    "    prob_combined_rl_doorpresented = prob_combined_rl_doorpresented,\n",
    "    SPE_signed = SPE_raw_compile_signed,\n",
    "    SPE_abs = SPE_raw_compile_abs,\n",
    "    SR_m_change_signed = SR_m_change_compile_signed,\n",
    "    SR_m_change_abs = SR_m_change_compile_abs,\n",
    "    SR_gem_change_signed = SR_gem_change_compile_signed,\n",
    "    SR_gem_change_abs = SR_gem_change_compile_abs)\n",
    "        \n",
    "    # here if running em you can only return the likelihood\n",
    "    #return -lik\n",
    "    \n",
    "    return (-lik, trial_data)\n",
    "\n",
    "end"
   ]
  },
  {
   "cell_type": "markdown",
   "metadata": {},
   "source": [
    "# Parameter optimisation"
   ]
  },
  {
   "cell_type": "markdown",
   "metadata": {},
   "source": [
    "### setup variables for em\n"
   ]
  },
  {
   "cell_type": "code",
   "execution_count": 6,
   "metadata": {},
   "outputs": [],
   "source": [
    "\n",
    "#store list of actual subject numbers (in subj)\n",
    "subs = unique(df[:participantID])\n",
    "\n",
    "#put in a new column called \"sub\" which is identical to subj - em looks for this\n",
    "df[:sub] = df[:participantID];\n",
    "\n",
    "NS = length(subs)\n",
    "X = ones(NS)\n",
    "betas = [0. 0. 0.]\n",
    "sigma = [1., 1., 1.];\n"
   ]
  },
  {
   "cell_type": "markdown",
   "metadata": {},
   "source": [
    "### Run em to get best fit parameters for each subject\n"
   ]
  },
  {
   "cell_type": "code",
   "execution_count": 7,
   "metadata": {},
   "outputs": [
    {
     "name": "stdout",
     "output_type": "stream",
     "text": [
      "\n",
      "iter: 41\n",
      "betas: [1.59 1.04 0.16]\n",
      "sigma: [0.45, 0.32, 0.58]\n",
      "free energy: -1376.072917\n",
      "change: [3.0e-6, 7.0e-6, 8.5e-5, 0.000126, 0.000854, 0.000305]\n",
      "max: 0.000854\n"
     ]
    }
   ],
   "source": [
    "# run em\n",
    "# x contains the parameters for each subject (note not the same as variable X)\n",
    "# l and h are per-subject likelihood and hessians\n",
    "(betas, sigma, x, l, h) = em(df, subs, X, betas, sigma, rl_model; emtol=emtol, parallel=parallel, full=full);\n"
   ]
  },
  {
   "cell_type": "code",
   "execution_count": 8,
   "metadata": {},
   "outputs": [
    {
     "data": {
      "text/plain": [
       "1346.1225594478499"
      ]
     },
     "execution_count": 8,
     "metadata": {},
     "output_type": "execute_result"
    }
   ],
   "source": [
    "aggll_iaic = iaic(x, l, h, betas, sigma)"
   ]
  },
  {
   "cell_type": "markdown",
   "metadata": {},
   "source": [
    "### Generate Model Statistics \n",
    "(LOOCV)"
   ]
  },
  {
   "cell_type": "code",
   "execution_count": 9,
   "metadata": {},
   "outputs": [
    {
     "name": "stdout",
     "output_type": "stream",
     "text": [
      "Subject: 1.."
     ]
    },
    {
     "name": "stderr",
     "output_type": "stream",
     "text": [
      "┌ Warning: Linesearch failed, using alpha = 0.055693236368297316 and exiting optimization.\n",
      "│ The linesearch exited with message:\n",
      "│ Linesearch failed to converge, reached maximum iterations 50.\n",
      "└ @ Optim ~/.julia/packages/Optim/U0b9c/src/utilities/perform_linesearch.jl:47\n"
     ]
    },
    {
     "name": "stdout",
     "output_type": "stream",
     "text": [
      "2.."
     ]
    },
    {
     "name": "stderr",
     "output_type": "stream",
     "text": [
      "┌ Warning: Linesearch failed, using alpha = 58.372730224135 and exiting optimization.\n",
      "│ The linesearch exited with message:\n",
      "│ Linesearch failed to converge, reached maximum iterations 50.\n",
      "└ @ Optim ~/.julia/packages/Optim/U0b9c/src/utilities/perform_linesearch.jl:47\n",
      "┌ Warning: Linesearch failed, using alpha = 0.0211078860441532 and exiting optimization.\n",
      "│ The linesearch exited with message:\n",
      "│ Linesearch failed to converge, reached maximum iterations 50.\n",
      "└ @ Optim ~/.julia/packages/Optim/U0b9c/src/utilities/perform_linesearch.jl:47\n"
     ]
    },
    {
     "name": "stdout",
     "output_type": "stream",
     "text": [
      "3.."
     ]
    },
    {
     "name": "stderr",
     "output_type": "stream",
     "text": [
      "┌ Warning: Linesearch failed, using alpha = 17.163893013410508 and exiting optimization.\n",
      "│ The linesearch exited with message:\n",
      "│ Linesearch failed to converge, reached maximum iterations 50.\n",
      "└ @ Optim ~/.julia/packages/Optim/U0b9c/src/utilities/perform_linesearch.jl:47\n",
      "┌ Warning: Linesearch failed, using alpha = 0.038437807101648014 and exiting optimization.\n",
      "│ The linesearch exited with message:\n",
      "│ Linesearch failed to converge, reached maximum iterations 50.\n",
      "└ @ Optim ~/.julia/packages/Optim/U0b9c/src/utilities/perform_linesearch.jl:47\n",
      "┌ Warning: Linesearch failed, using alpha = 0.009298204306348968 and exiting optimization.\n",
      "│ The linesearch exited with message:\n",
      "│ Linesearch failed to converge, reached maximum iterations 50.\n",
      "└ @ Optim ~/.julia/packages/Optim/U0b9c/src/utilities/perform_linesearch.jl:47\n",
      "┌ Warning: Linesearch failed, using alpha = 0.017389804578971654 and exiting optimization.\n",
      "│ The linesearch exited with message:\n",
      "│ Linesearch failed to converge, reached maximum iterations 50.\n",
      "└ @ Optim ~/.julia/packages/Optim/U0b9c/src/utilities/perform_linesearch.jl:47\n",
      "┌ Warning: Linesearch failed, using alpha = 0.07667745332850615 and exiting optimization.\n",
      "│ The linesearch exited with message:\n",
      "│ Linesearch failed to converge, reached maximum iterations 50.\n",
      "└ @ Optim ~/.julia/packages/Optim/U0b9c/src/utilities/perform_linesearch.jl:47\n",
      "┌ Warning: Linesearch failed, using alpha = 0.09639628564225966 and exiting optimization.\n",
      "│ The linesearch exited with message:\n",
      "│ Linesearch failed to converge, reached maximum iterations 50.\n",
      "└ @ Optim ~/.julia/packages/Optim/U0b9c/src/utilities/perform_linesearch.jl:47\n",
      "┌ Warning: Linesearch failed, using alpha = 0.053856530972376554 and exiting optimization.\n",
      "│ The linesearch exited with message:\n",
      "│ Linesearch failed to converge, reached maximum iterations 50.\n",
      "└ @ Optim ~/.julia/packages/Optim/U0b9c/src/utilities/perform_linesearch.jl:47\n",
      "┌ Warning: Linesearch failed, using alpha = 0.03718387431342589 and exiting optimization.\n",
      "│ The linesearch exited with message:\n",
      "│ Linesearch failed to converge, reached maximum iterations 50.\n",
      "└ @ Optim ~/.julia/packages/Optim/U0b9c/src/utilities/perform_linesearch.jl:47\n",
      "┌ Warning: Linesearch failed, using alpha = 48.344001012803865 and exiting optimization.\n",
      "│ The linesearch exited with message:\n",
      "│ Linesearch failed to converge, reached maximum iterations 50.\n",
      "└ @ Optim ~/.julia/packages/Optim/U0b9c/src/utilities/perform_linesearch.jl:47\n",
      "┌ Warning: Linesearch failed, using alpha = 0.012139114585727443 and exiting optimization.\n",
      "│ The linesearch exited with message:\n",
      "│ Linesearch failed to converge, reached maximum iterations 50.\n",
      "└ @ Optim ~/.julia/packages/Optim/U0b9c/src/utilities/perform_linesearch.jl:47\n",
      "┌ Warning: Linesearch failed, using alpha = 0.31358863551588767 and exiting optimization.\n",
      "│ The linesearch exited with message:\n",
      "│ Linesearch failed to converge, reached maximum iterations 50.\n",
      "└ @ Optim ~/.julia/packages/Optim/U0b9c/src/utilities/perform_linesearch.jl:47\n",
      "┌ Warning: Linesearch failed, using alpha = 0.08807581180852375 and exiting optimization.\n",
      "│ The linesearch exited with message:\n",
      "│ Linesearch failed to converge, reached maximum iterations 50.\n",
      "└ @ Optim ~/.julia/packages/Optim/U0b9c/src/utilities/perform_linesearch.jl:47\n",
      "┌ Warning: Linesearch failed, using alpha = 32.625752679902405 and exiting optimization.\n",
      "│ The linesearch exited with message:\n",
      "│ Linesearch failed to converge, reached maximum iterations 50.\n",
      "└ @ Optim ~/.julia/packages/Optim/U0b9c/src/utilities/perform_linesearch.jl:47\n",
      "┌ Warning: Linesearch failed, using alpha = 0.0012375988513141617 and exiting optimization.\n",
      "│ The linesearch exited with message:\n",
      "│ Linesearch failed to converge, reached maximum iterations 50.\n",
      "└ @ Optim ~/.julia/packages/Optim/U0b9c/src/utilities/perform_linesearch.jl:47\n",
      "┌ Warning: Linesearch failed, using alpha = 0.01792846140763322 and exiting optimization.\n",
      "│ The linesearch exited with message:\n",
      "│ Linesearch failed to converge, reached maximum iterations 50.\n",
      "└ @ Optim ~/.julia/packages/Optim/U0b9c/src/utilities/perform_linesearch.jl:47\n",
      "┌ Warning: Linesearch failed, using alpha = 0.008231316397654766 and exiting optimization.\n",
      "│ The linesearch exited with message:\n",
      "│ Linesearch failed to converge, reached maximum iterations 50.\n",
      "└ @ Optim ~/.julia/packages/Optim/U0b9c/src/utilities/perform_linesearch.jl:47\n",
      "┌ Warning: Linesearch failed, using alpha = 88.74613340132451 and exiting optimization.\n",
      "│ The linesearch exited with message:\n",
      "│ Linesearch failed to converge, reached maximum iterations 50.\n",
      "└ @ Optim ~/.julia/packages/Optim/U0b9c/src/utilities/perform_linesearch.jl:47\n",
      "┌ Warning: Linesearch failed, using alpha = 0.08715799777512845 and exiting optimization.\n",
      "│ The linesearch exited with message:\n",
      "│ Linesearch failed to converge, reached maximum iterations 50.\n",
      "└ @ Optim ~/.julia/packages/Optim/U0b9c/src/utilities/perform_linesearch.jl:47\n",
      "┌ Warning: Linesearch failed, using alpha = 0.07137402824240578 and exiting optimization.\n",
      "│ The linesearch exited with message:\n",
      "│ Linesearch failed to converge, reached maximum iterations 50.\n",
      "└ @ Optim ~/.julia/packages/Optim/U0b9c/src/utilities/perform_linesearch.jl:47\n",
      "┌ Warning: Linesearch failed, using alpha = 45.744465520967495 and exiting optimization.\n",
      "│ The linesearch exited with message:\n",
      "│ Linesearch failed to converge, reached maximum iterations 50.\n",
      "└ @ Optim ~/.julia/packages/Optim/U0b9c/src/utilities/perform_linesearch.jl:47\n",
      "┌ Warning: Linesearch failed, using alpha = 9.091318733296731 and exiting optimization.\n",
      "│ The linesearch exited with message:\n",
      "│ Linesearch failed to converge, reached maximum iterations 50.\n",
      "└ @ Optim ~/.julia/packages/Optim/U0b9c/src/utilities/perform_linesearch.jl:47\n",
      "┌ Warning: Linesearch failed, using alpha = 20.47600900239579 and exiting optimization.\n",
      "│ The linesearch exited with message:\n",
      "│ Linesearch failed to converge, reached maximum iterations 50.\n",
      "└ @ Optim ~/.julia/packages/Optim/U0b9c/src/utilities/perform_linesearch.jl:47\n",
      "┌ Warning: Linesearch failed, using alpha = 0.0020099539333607633 and exiting optimization.\n",
      "│ The linesearch exited with message:\n",
      "│ Linesearch failed to converge, reached maximum iterations 50.\n",
      "└ @ Optim ~/.julia/packages/Optim/U0b9c/src/utilities/perform_linesearch.jl:47\n",
      "┌ Warning: Linesearch failed, using alpha = 7.654581173940587 and exiting optimization.\n",
      "│ The linesearch exited with message:\n",
      "│ Linesearch failed to converge, reached maximum iterations 50.\n",
      "└ @ Optim ~/.julia/packages/Optim/U0b9c/src/utilities/perform_linesearch.jl:47\n",
      "┌ Warning: Linesearch failed, using alpha = 0.022925686828983105 and exiting optimization.\n",
      "│ The linesearch exited with message:\n",
      "│ Linesearch failed to converge, reached maximum iterations 50.\n",
      "└ @ Optim ~/.julia/packages/Optim/U0b9c/src/utilities/perform_linesearch.jl:47\n",
      "┌ Warning: Linesearch failed, using alpha = 0.0346902685650399 and exiting optimization.\n",
      "│ The linesearch exited with message:\n",
      "│ Linesearch failed to converge, reached maximum iterations 50.\n",
      "└ @ Optim ~/.julia/packages/Optim/U0b9c/src/utilities/perform_linesearch.jl:47\n",
      "┌ Warning: Linesearch failed, using alpha = 0.010862500038248672 and exiting optimization.\n",
      "│ The linesearch exited with message:\n",
      "│ Linesearch failed to converge, reached maximum iterations 50.\n",
      "└ @ Optim ~/.julia/packages/Optim/U0b9c/src/utilities/perform_linesearch.jl:47\n",
      "┌ Warning: Linesearch failed, using alpha = 0.009565221944113314 and exiting optimization.\n",
      "│ The linesearch exited with message:\n",
      "│ Linesearch failed to converge, reached maximum iterations 50.\n",
      "└ @ Optim ~/.julia/packages/Optim/U0b9c/src/utilities/perform_linesearch.jl:47\n",
      "┌ Warning: Linesearch failed, using alpha = 130.47513895246786 and exiting optimization.\n",
      "│ The linesearch exited with message:\n",
      "│ Linesearch failed to converge, reached maximum iterations 50.\n",
      "└ @ Optim ~/.julia/packages/Optim/U0b9c/src/utilities/perform_linesearch.jl:47\n",
      "┌ Warning: Linesearch failed, using alpha = 0.051011437585815486 and exiting optimization.\n",
      "│ The linesearch exited with message:\n",
      "│ Linesearch failed to converge, reached maximum iterations 50.\n",
      "└ @ Optim ~/.julia/packages/Optim/U0b9c/src/utilities/perform_linesearch.jl:47\n",
      "┌ Warning: Linesearch failed, using alpha = 3.877524168956223e-15 and exiting optimization.\n",
      "│ The linesearch exited with message:\n",
      "│ Linesearch failed to converge, reached maximum iterations 50.\n",
      "└ @ Optim ~/.julia/packages/Optim/U0b9c/src/utilities/perform_linesearch.jl:47\n"
     ]
    },
    {
     "name": "stderr",
     "output_type": "stream",
     "text": [
      "┌ Warning: Linesearch failed, using alpha = 2.3557118328761248e-15 and exiting optimization.\n",
      "│ The linesearch exited with message:\n",
      "│ Linesearch failed to converge, reached maximum iterations 50.\n",
      "└ @ Optim ~/.julia/packages/Optim/U0b9c/src/utilities/perform_linesearch.jl:47\n",
      "┌ Warning: Linesearch failed, using alpha = 2.052870146276157e-15 and exiting optimization.\n",
      "│ The linesearch exited with message:\n",
      "│ Linesearch failed to converge, reached maximum iterations 50.\n",
      "└ @ Optim ~/.julia/packages/Optim/U0b9c/src/utilities/perform_linesearch.jl:47\n",
      "┌ Warning: Linesearch failed, using alpha = 1.905997527864198e-15 and exiting optimization.\n",
      "│ The linesearch exited with message:\n",
      "│ Linesearch failed to converge, reached maximum iterations 50.\n",
      "└ @ Optim ~/.julia/packages/Optim/U0b9c/src/utilities/perform_linesearch.jl:47\n",
      "┌ Warning: Linesearch failed, using alpha = 1.7867164694637625e-15 and exiting optimization.\n",
      "│ The linesearch exited with message:\n",
      "│ Linesearch failed to converge, reached maximum iterations 50.\n",
      "└ @ Optim ~/.julia/packages/Optim/U0b9c/src/utilities/perform_linesearch.jl:47\n",
      "┌ Warning: Linesearch failed, using alpha = 0.08622628125099413 and exiting optimization.\n",
      "│ The linesearch exited with message:\n",
      "│ Linesearch failed to converge, reached maximum iterations 50.\n",
      "└ @ Optim ~/.julia/packages/Optim/U0b9c/src/utilities/perform_linesearch.jl:47\n"
     ]
    },
    {
     "name": "stdout",
     "output_type": "stream",
     "text": [
      "4.."
     ]
    },
    {
     "name": "stderr",
     "output_type": "stream",
     "text": [
      "┌ Warning: Linesearch failed, using alpha = 0.07731987675936394 and exiting optimization.\n",
      "│ The linesearch exited with message:\n",
      "│ Linesearch failed to converge, reached maximum iterations 50.\n",
      "└ @ Optim ~/.julia/packages/Optim/U0b9c/src/utilities/perform_linesearch.jl:47\n",
      "┌ Warning: Linesearch failed, using alpha = 0.059216668828877196 and exiting optimization.\n",
      "│ The linesearch exited with message:\n",
      "│ Linesearch failed to converge, reached maximum iterations 50.\n",
      "└ @ Optim ~/.julia/packages/Optim/U0b9c/src/utilities/perform_linesearch.jl:47\n",
      "┌ Warning: Linesearch failed, using alpha = 91.80770776479007 and exiting optimization.\n",
      "│ The linesearch exited with message:\n",
      "│ Linesearch failed to converge, reached maximum iterations 50.\n",
      "└ @ Optim ~/.julia/packages/Optim/U0b9c/src/utilities/perform_linesearch.jl:47\n",
      "┌ Warning: Linesearch failed, using alpha = 2.777411109826873e-13 and exiting optimization.\n",
      "│ The linesearch exited with message:\n",
      "│ Linesearch failed to converge, reached maximum iterations 50.\n",
      "└ @ Optim ~/.julia/packages/Optim/U0b9c/src/utilities/perform_linesearch.jl:47\n"
     ]
    },
    {
     "name": "stdout",
     "output_type": "stream",
     "text": [
      "5.."
     ]
    },
    {
     "name": "stderr",
     "output_type": "stream",
     "text": [
      "┌ Warning: Linesearch failed, using alpha = 0.0035671749676154294 and exiting optimization.\n",
      "│ The linesearch exited with message:\n",
      "│ Linesearch failed to converge, reached maximum iterations 50.\n",
      "└ @ Optim ~/.julia/packages/Optim/U0b9c/src/utilities/perform_linesearch.jl:47\n",
      "┌ Warning: Linesearch failed, using alpha = 0.4540142225082847 and exiting optimization.\n",
      "│ The linesearch exited with message:\n",
      "│ Linesearch failed to converge, reached maximum iterations 50.\n",
      "└ @ Optim ~/.julia/packages/Optim/U0b9c/src/utilities/perform_linesearch.jl:47\n",
      "┌ Warning: Linesearch failed, using alpha = 0.003364819195482301 and exiting optimization.\n",
      "│ The linesearch exited with message:\n",
      "│ Linesearch failed to converge, reached maximum iterations 50.\n",
      "└ @ Optim ~/.julia/packages/Optim/U0b9c/src/utilities/perform_linesearch.jl:47\n",
      "┌ Warning: Linesearch failed, using alpha = 0.061595239733570006 and exiting optimization.\n",
      "│ The linesearch exited with message:\n",
      "│ Linesearch failed to converge, reached maximum iterations 50.\n",
      "└ @ Optim ~/.julia/packages/Optim/U0b9c/src/utilities/perform_linesearch.jl:47\n",
      "┌ Warning: Linesearch failed, using alpha = 50.04568901542932 and exiting optimization.\n",
      "│ The linesearch exited with message:\n",
      "│ Linesearch failed to converge, reached maximum iterations 50.\n",
      "└ @ Optim ~/.julia/packages/Optim/U0b9c/src/utilities/perform_linesearch.jl:47\n",
      "┌ Warning: Linesearch failed, using alpha = 0.04127652340931272 and exiting optimization.\n",
      "│ The linesearch exited with message:\n",
      "│ Linesearch failed to converge, reached maximum iterations 50.\n",
      "└ @ Optim ~/.julia/packages/Optim/U0b9c/src/utilities/perform_linesearch.jl:47\n",
      "┌ Warning: Linesearch failed, using alpha = 0.046070514947022724 and exiting optimization.\n",
      "│ The linesearch exited with message:\n",
      "│ Linesearch failed to converge, reached maximum iterations 50.\n",
      "└ @ Optim ~/.julia/packages/Optim/U0b9c/src/utilities/perform_linesearch.jl:47\n"
     ]
    },
    {
     "name": "stdout",
     "output_type": "stream",
     "text": [
      "6.."
     ]
    },
    {
     "name": "stderr",
     "output_type": "stream",
     "text": [
      "┌ Warning: Linesearch failed, using alpha = 0.0015033229897793961 and exiting optimization.\n",
      "│ The linesearch exited with message:\n",
      "│ Linesearch failed to converge, reached maximum iterations 50.\n",
      "└ @ Optim ~/.julia/packages/Optim/U0b9c/src/utilities/perform_linesearch.jl:47\n",
      "┌ Warning: Linesearch failed, using alpha = 0.0382198648056201 and exiting optimization.\n",
      "│ The linesearch exited with message:\n",
      "│ Linesearch failed to converge, reached maximum iterations 50.\n",
      "└ @ Optim ~/.julia/packages/Optim/U0b9c/src/utilities/perform_linesearch.jl:47\n"
     ]
    },
    {
     "name": "stdout",
     "output_type": "stream",
     "text": [
      "7.."
     ]
    },
    {
     "name": "stderr",
     "output_type": "stream",
     "text": [
      "┌ Warning: Linesearch failed, using alpha = 0.06805923614472344 and exiting optimization.\n",
      "│ The linesearch exited with message:\n",
      "│ Linesearch failed to converge, reached maximum iterations 50.\n",
      "└ @ Optim ~/.julia/packages/Optim/U0b9c/src/utilities/perform_linesearch.jl:47\n"
     ]
    },
    {
     "name": "stdout",
     "output_type": "stream",
     "text": [
      "8..9..10.."
     ]
    },
    {
     "name": "stderr",
     "output_type": "stream",
     "text": [
      "┌ Warning: Linesearch failed, using alpha = 0.04708083013318268 and exiting optimization.\n",
      "│ The linesearch exited with message:\n",
      "│ Linesearch failed to converge, reached maximum iterations 50.\n",
      "└ @ Optim ~/.julia/packages/Optim/U0b9c/src/utilities/perform_linesearch.jl:47\n",
      "┌ Warning: Linesearch failed, using alpha = 1.8009219150693621e-13 and exiting optimization.\n",
      "│ The linesearch exited with message:\n",
      "│ Linesearch failed to converge, reached maximum iterations 50.\n",
      "└ @ Optim ~/.julia/packages/Optim/U0b9c/src/utilities/perform_linesearch.jl:47\n"
     ]
    },
    {
     "name": "stdout",
     "output_type": "stream",
     "text": [
      "11.."
     ]
    },
    {
     "name": "stderr",
     "output_type": "stream",
     "text": [
      "┌ Warning: Linesearch failed, using alpha = 185.6835353712927 and exiting optimization.\n",
      "│ The linesearch exited with message:\n",
      "│ Linesearch failed to converge, reached maximum iterations 50.\n",
      "└ @ Optim ~/.julia/packages/Optim/U0b9c/src/utilities/perform_linesearch.jl:47\n",
      "┌ Warning: Linesearch failed, using alpha = 0.7158614415449522 and exiting optimization.\n",
      "│ The linesearch exited with message:\n",
      "│ Linesearch failed to converge, reached maximum iterations 50.\n",
      "└ @ Optim ~/.julia/packages/Optim/U0b9c/src/utilities/perform_linesearch.jl:47\n"
     ]
    },
    {
     "name": "stdout",
     "output_type": "stream",
     "text": [
      "12.."
     ]
    },
    {
     "name": "stderr",
     "output_type": "stream",
     "text": [
      "┌ Warning: Linesearch failed, using alpha = 0.06182210517546765 and exiting optimization.\n",
      "│ The linesearch exited with message:\n",
      "│ Linesearch failed to converge, reached maximum iterations 50.\n",
      "└ @ Optim ~/.julia/packages/Optim/U0b9c/src/utilities/perform_linesearch.jl:47\n",
      "┌ Warning: Linesearch failed, using alpha = 0.0018689645658807117 and exiting optimization.\n",
      "│ The linesearch exited with message:\n",
      "│ Linesearch failed to converge, reached maximum iterations 50.\n",
      "└ @ Optim ~/.julia/packages/Optim/U0b9c/src/utilities/perform_linesearch.jl:47\n"
     ]
    },
    {
     "name": "stdout",
     "output_type": "stream",
     "text": [
      "13.."
     ]
    },
    {
     "name": "stderr",
     "output_type": "stream",
     "text": [
      "┌ Warning: Linesearch failed, using alpha = 29.31979045815063 and exiting optimization.\n",
      "│ The linesearch exited with message:\n",
      "│ Linesearch failed to converge, reached maximum iterations 50.\n",
      "└ @ Optim ~/.julia/packages/Optim/U0b9c/src/utilities/perform_linesearch.jl:47\n",
      "┌ Warning: Linesearch failed, using alpha = 0.09147311910151103 and exiting optimization.\n",
      "│ The linesearch exited with message:\n",
      "│ Linesearch failed to converge, reached maximum iterations 50.\n",
      "└ @ Optim ~/.julia/packages/Optim/U0b9c/src/utilities/perform_linesearch.jl:47\n"
     ]
    },
    {
     "name": "stdout",
     "output_type": "stream",
     "text": [
      "14.."
     ]
    },
    {
     "name": "stderr",
     "output_type": "stream",
     "text": [
      "┌ Warning: Linesearch failed, using alpha = 0.006873038644732649 and exiting optimization.\n",
      "│ The linesearch exited with message:\n",
      "│ Linesearch failed to converge, reached maximum iterations 50.\n",
      "└ @ Optim ~/.julia/packages/Optim/U0b9c/src/utilities/perform_linesearch.jl:47\n",
      "┌ Warning: Linesearch failed, using alpha = 6.042212009519825e-14 and exiting optimization.\n",
      "│ The linesearch exited with message:\n",
      "│ Linesearch failed to converge, reached maximum iterations 50.\n",
      "└ @ Optim ~/.julia/packages/Optim/U0b9c/src/utilities/perform_linesearch.jl:47\n",
      "┌ Warning: Linesearch failed, using alpha = 0.021969171436739536 and exiting optimization.\n",
      "│ The linesearch exited with message:\n",
      "│ Linesearch failed to converge, reached maximum iterations 50.\n",
      "└ @ Optim ~/.julia/packages/Optim/U0b9c/src/utilities/perform_linesearch.jl:47\n",
      "┌ Warning: Linesearch failed, using alpha = 140.12088634591618 and exiting optimization.\n",
      "│ The linesearch exited with message:\n",
      "│ Linesearch failed to converge, reached maximum iterations 50.\n",
      "└ @ Optim ~/.julia/packages/Optim/U0b9c/src/utilities/perform_linesearch.jl:47\n",
      "┌ Warning: Linesearch failed, using alpha = 0.014390635223324365 and exiting optimization.\n",
      "│ The linesearch exited with message:\n",
      "│ Linesearch failed to converge, reached maximum iterations 50.\n",
      "└ @ Optim ~/.julia/packages/Optim/U0b9c/src/utilities/perform_linesearch.jl:47\n",
      "┌ Warning: Linesearch failed, using alpha = 24.219844797907438 and exiting optimization.\n",
      "│ The linesearch exited with message:\n",
      "│ Linesearch failed to converge, reached maximum iterations 50.\n",
      "└ @ Optim ~/.julia/packages/Optim/U0b9c/src/utilities/perform_linesearch.jl:47\n",
      "┌ Warning: Linesearch failed, using alpha = 14.76650309429117 and exiting optimization.\n",
      "│ The linesearch exited with message:\n",
      "│ Linesearch failed to converge, reached maximum iterations 50.\n",
      "└ @ Optim ~/.julia/packages/Optim/U0b9c/src/utilities/perform_linesearch.jl:47\n",
      "┌ Warning: Linesearch failed, using alpha = 122.21767753594189 and exiting optimization.\n",
      "│ The linesearch exited with message:\n",
      "│ Linesearch failed to converge, reached maximum iterations 50.\n",
      "└ @ Optim ~/.julia/packages/Optim/U0b9c/src/utilities/perform_linesearch.jl:47\n",
      "┌ Warning: Linesearch failed, using alpha = 0.01459414965040502 and exiting optimization.\n",
      "│ The linesearch exited with message:\n",
      "│ Linesearch failed to converge, reached maximum iterations 50.\n",
      "└ @ Optim ~/.julia/packages/Optim/U0b9c/src/utilities/perform_linesearch.jl:47\n",
      "┌ Warning: Linesearch failed, using alpha = 0.09468427728883512 and exiting optimization.\n",
      "│ The linesearch exited with message:\n",
      "│ Linesearch failed to converge, reached maximum iterations 50.\n",
      "└ @ Optim ~/.julia/packages/Optim/U0b9c/src/utilities/perform_linesearch.jl:47\n",
      "┌ Warning: Linesearch failed, using alpha = 0.017083061928874696 and exiting optimization.\n",
      "│ The linesearch exited with message:\n",
      "│ Linesearch failed to converge, reached maximum iterations 50.\n",
      "└ @ Optim ~/.julia/packages/Optim/U0b9c/src/utilities/perform_linesearch.jl:47\n",
      "┌ Warning: Linesearch failed, using alpha = 0.03783726443062451 and exiting optimization.\n",
      "│ The linesearch exited with message:\n",
      "│ Linesearch failed to converge, reached maximum iterations 50.\n",
      "└ @ Optim ~/.julia/packages/Optim/U0b9c/src/utilities/perform_linesearch.jl:47\n",
      "┌ Warning: Linesearch failed, using alpha = 0.02135070157843674 and exiting optimization.\n",
      "│ The linesearch exited with message:\n",
      "│ Linesearch failed to converge, reached maximum iterations 50.\n",
      "└ @ Optim ~/.julia/packages/Optim/U0b9c/src/utilities/perform_linesearch.jl:47\n",
      "┌ Warning: Linesearch failed, using alpha = 0.025899361624958255 and exiting optimization.\n",
      "│ The linesearch exited with message:\n",
      "│ Linesearch failed to converge, reached maximum iterations 50.\n",
      "└ @ Optim ~/.julia/packages/Optim/U0b9c/src/utilities/perform_linesearch.jl:47\n"
     ]
    },
    {
     "name": "stdout",
     "output_type": "stream",
     "text": [
      "15.."
     ]
    },
    {
     "name": "stderr",
     "output_type": "stream",
     "text": [
      "┌ Warning: Linesearch failed, using alpha = 99.86899360507559 and exiting optimization.\n",
      "│ The linesearch exited with message:\n",
      "│ Linesearch failed to converge, reached maximum iterations 50.\n",
      "└ @ Optim ~/.julia/packages/Optim/U0b9c/src/utilities/perform_linesearch.jl:47\n",
      "┌ Warning: Linesearch failed, using alpha = 0.027512208979780184 and exiting optimization.\n",
      "│ The linesearch exited with message:\n",
      "│ Linesearch failed to converge, reached maximum iterations 50.\n",
      "└ @ Optim ~/.julia/packages/Optim/U0b9c/src/utilities/perform_linesearch.jl:47\n",
      "┌ Warning: Linesearch failed, using alpha = 1.384736208359742e-13 and exiting optimization.\n",
      "│ The linesearch exited with message:\n",
      "│ Linesearch failed to converge, reached maximum iterations 50.\n",
      "└ @ Optim ~/.julia/packages/Optim/U0b9c/src/utilities/perform_linesearch.jl:47\n"
     ]
    },
    {
     "name": "stdout",
     "output_type": "stream",
     "text": [
      "16.."
     ]
    },
    {
     "name": "stderr",
     "output_type": "stream",
     "text": [
      "┌ Warning: Linesearch failed, using alpha = 16.362811124138226 and exiting optimization.\n",
      "│ The linesearch exited with message:\n",
      "│ Linesearch failed to converge, reached maximum iterations 50.\n",
      "└ @ Optim ~/.julia/packages/Optim/U0b9c/src/utilities/perform_linesearch.jl:47\n"
     ]
    },
    {
     "name": "stdout",
     "output_type": "stream",
     "text": [
      "17.."
     ]
    },
    {
     "name": "stderr",
     "output_type": "stream",
     "text": [
      "┌ Warning: Linesearch failed, using alpha = 0.017957659349675085 and exiting optimization.\n",
      "│ The linesearch exited with message:\n",
      "│ Linesearch failed to converge, reached maximum iterations 50.\n",
      "└ @ Optim /Users/neil/.julia/packages/Optim/U0b9c/src/utilities/perform_linesearch.jl:47\n"
     ]
    },
    {
     "name": "stdout",
     "output_type": "stream",
     "text": [
      "18.."
     ]
    },
    {
     "name": "stderr",
     "output_type": "stream",
     "text": [
      "┌ Warning: Linesearch failed, using alpha = 0.05179020926496374 and exiting optimization.\n",
      "│ The linesearch exited with message:\n",
      "│ Linesearch failed to converge, reached maximum iterations 50.\n",
      "└ @ Optim ~/.julia/packages/Optim/U0b9c/src/utilities/perform_linesearch.jl:47\n",
      "┌ Warning: Linesearch failed, using alpha = 51.16137936936583 and exiting optimization.\n",
      "│ The linesearch exited with message:\n",
      "│ Linesearch failed to converge, reached maximum iterations 50.\n",
      "└ @ Optim ~/.julia/packages/Optim/U0b9c/src/utilities/perform_linesearch.jl:47\n",
      "┌ Warning: Linesearch failed, using alpha = 0.025677273115627244 and exiting optimization.\n",
      "│ The linesearch exited with message:\n",
      "│ Linesearch failed to converge, reached maximum iterations 50.\n",
      "└ @ Optim ~/.julia/packages/Optim/U0b9c/src/utilities/perform_linesearch.jl:47\n",
      "┌ Warning: Linesearch failed, using alpha = 0.005486546093518715 and exiting optimization.\n",
      "│ The linesearch exited with message:\n",
      "│ Linesearch failed to converge, reached maximum iterations 50.\n",
      "└ @ Optim ~/.julia/packages/Optim/U0b9c/src/utilities/perform_linesearch.jl:47\n",
      "┌ Warning: Linesearch failed, using alpha = 0.04399162021017792 and exiting optimization.\n",
      "│ The linesearch exited with message:\n",
      "│ Linesearch failed to converge, reached maximum iterations 50.\n",
      "└ @ Optim ~/.julia/packages/Optim/U0b9c/src/utilities/perform_linesearch.jl:47\n",
      "┌ Warning: Linesearch failed, using alpha = 0.05147880459164209 and exiting optimization.\n",
      "│ The linesearch exited with message:\n",
      "│ Linesearch failed to converge, reached maximum iterations 50.\n",
      "└ @ Optim ~/.julia/packages/Optim/U0b9c/src/utilities/perform_linesearch.jl:47\n"
     ]
    },
    {
     "name": "stdout",
     "output_type": "stream",
     "text": [
      "19.."
     ]
    },
    {
     "name": "stderr",
     "output_type": "stream",
     "text": [
      "┌ Warning: Linesearch failed, using alpha = 0.01887078318093901 and exiting optimization.\n",
      "│ The linesearch exited with message:\n",
      "│ Linesearch failed to converge, reached maximum iterations 50.\n",
      "└ @ Optim ~/.julia/packages/Optim/U0b9c/src/utilities/perform_linesearch.jl:47\n",
      "┌ Warning: Linesearch failed, using alpha = 5.742921047159958e-14 and exiting optimization.\n",
      "│ The linesearch exited with message:\n",
      "│ Linesearch failed to converge, reached maximum iterations 50.\n",
      "└ @ Optim ~/.julia/packages/Optim/U0b9c/src/utilities/perform_linesearch.jl:47\n",
      "┌ Warning: Linesearch failed, using alpha = 25.695936204955007 and exiting optimization.\n",
      "│ The linesearch exited with message:\n",
      "│ Linesearch failed to converge, reached maximum iterations 50.\n",
      "└ @ Optim ~/.julia/packages/Optim/U0b9c/src/utilities/perform_linesearch.jl:47\n",
      "┌ Warning: Linesearch failed, using alpha = 0.04794404346968269 and exiting optimization.\n",
      "│ The linesearch exited with message:\n",
      "│ Linesearch failed to converge, reached maximum iterations 50.\n",
      "└ @ Optim ~/.julia/packages/Optim/U0b9c/src/utilities/perform_linesearch.jl:47\n",
      "┌ Warning: Linesearch failed, using alpha = 0.0 and exiting optimization.\n",
      "│ The linesearch exited with message:\n",
      "│ Linesearch failed to converge, reached maximum iterations 50.\n",
      "└ @ Optim ~/.julia/packages/Optim/U0b9c/src/utilities/perform_linesearch.jl:47\n",
      "┌ Warning: Linesearch failed, using alpha = 0.04579683934358577 and exiting optimization.\n",
      "│ The linesearch exited with message:\n",
      "│ Linesearch failed to converge, reached maximum iterations 50.\n",
      "└ @ Optim ~/.julia/packages/Optim/U0b9c/src/utilities/perform_linesearch.jl:47\n"
     ]
    },
    {
     "name": "stdout",
     "output_type": "stream",
     "text": [
      "20.."
     ]
    },
    {
     "name": "stderr",
     "output_type": "stream",
     "text": [
      "┌ Warning: Linesearch failed, using alpha = 7.780342275286864 and exiting optimization.\n",
      "│ The linesearch exited with message:\n",
      "│ Linesearch failed to converge, reached maximum iterations 50.\n",
      "└ @ Optim ~/.julia/packages/Optim/U0b9c/src/utilities/perform_linesearch.jl:47\n",
      "┌ Warning: Linesearch failed, using alpha = 0.000567326979777235 and exiting optimization.\n",
      "│ The linesearch exited with message:\n",
      "│ Linesearch failed to converge, reached maximum iterations 50.\n",
      "└ @ Optim ~/.julia/packages/Optim/U0b9c/src/utilities/perform_linesearch.jl:47\n"
     ]
    },
    {
     "name": "stdout",
     "output_type": "stream",
     "text": [
      "21.."
     ]
    },
    {
     "name": "stderr",
     "output_type": "stream",
     "text": [
      "┌ Warning: Linesearch failed, using alpha = 0.0641555623233726 and exiting optimization.\n",
      "│ The linesearch exited with message:\n",
      "│ Linesearch failed to converge, reached maximum iterations 50.\n",
      "└ @ Optim ~/.julia/packages/Optim/U0b9c/src/utilities/perform_linesearch.jl:47\n"
     ]
    },
    {
     "name": "stdout",
     "output_type": "stream",
     "text": [
      "22.."
     ]
    },
    {
     "name": "stderr",
     "output_type": "stream",
     "text": [
      "┌ Warning: Linesearch failed, using alpha = 36.57782818209081 and exiting optimization.\n",
      "│ The linesearch exited with message:\n",
      "│ Linesearch failed to converge, reached maximum iterations 50.\n",
      "└ @ Optim ~/.julia/packages/Optim/U0b9c/src/utilities/perform_linesearch.jl:47\n",
      "┌ Warning: Linesearch failed, using alpha = 0.0065775995564630214 and exiting optimization.\n",
      "│ The linesearch exited with message:\n",
      "│ Linesearch failed to converge, reached maximum iterations 50.\n",
      "└ @ Optim ~/.julia/packages/Optim/U0b9c/src/utilities/perform_linesearch.jl:47\n",
      "┌ Warning: Linesearch failed, using alpha = 0.043121779652210715 and exiting optimization.\n",
      "│ The linesearch exited with message:\n",
      "│ Linesearch failed to converge, reached maximum iterations 50.\n",
      "└ @ Optim ~/.julia/packages/Optim/U0b9c/src/utilities/perform_linesearch.jl:47\n",
      "┌ Warning: Linesearch failed, using alpha = 0.4569102643397748 and exiting optimization.\n",
      "│ The linesearch exited with message:\n",
      "│ Linesearch failed to converge, reached maximum iterations 50.\n",
      "└ @ Optim ~/.julia/packages/Optim/U0b9c/src/utilities/perform_linesearch.jl:47\n",
      "┌ Warning: Linesearch failed, using alpha = 0.09233352016353435 and exiting optimization.\n",
      "│ The linesearch exited with message:\n",
      "│ Linesearch failed to converge, reached maximum iterations 50.\n",
      "└ @ Optim ~/.julia/packages/Optim/U0b9c/src/utilities/perform_linesearch.jl:47\n",
      "┌ Warning: Linesearch failed, using alpha = 0.04496105055522662 and exiting optimization.\n",
      "│ The linesearch exited with message:\n",
      "│ Linesearch failed to converge, reached maximum iterations 50.\n",
      "└ @ Optim ~/.julia/packages/Optim/U0b9c/src/utilities/perform_linesearch.jl:47\n",
      "┌ Warning: Linesearch failed, using alpha = 0.007940025167704532 and exiting optimization.\n",
      "│ The linesearch exited with message:\n",
      "│ Linesearch failed to converge, reached maximum iterations 50.\n",
      "└ @ Optim ~/.julia/packages/Optim/U0b9c/src/utilities/perform_linesearch.jl:47\n",
      "┌ Warning: Linesearch failed, using alpha = 0.06870580735934942 and exiting optimization.\n",
      "│ The linesearch exited with message:\n",
      "│ Linesearch failed to converge, reached maximum iterations 50.\n",
      "└ @ Optim ~/.julia/packages/Optim/U0b9c/src/utilities/perform_linesearch.jl:47\n",
      "┌ Warning: Linesearch failed, using alpha = 8.830753363468157 and exiting optimization.\n",
      "│ The linesearch exited with message:\n",
      "│ Linesearch failed to converge, reached maximum iterations 50.\n",
      "└ @ Optim ~/.julia/packages/Optim/U0b9c/src/utilities/perform_linesearch.jl:47\n",
      "┌ Warning: Linesearch failed, using alpha = 26.528034030911527 and exiting optimization.\n",
      "│ The linesearch exited with message:\n",
      "│ Linesearch failed to converge, reached maximum iterations 50.\n",
      "└ @ Optim ~/.julia/packages/Optim/U0b9c/src/utilities/perform_linesearch.jl:47\n",
      "┌ Warning: Linesearch failed, using alpha = 14.079813830883058 and exiting optimization.\n",
      "│ The linesearch exited with message:\n",
      "│ Linesearch failed to converge, reached maximum iterations 50.\n",
      "└ @ Optim ~/.julia/packages/Optim/U0b9c/src/utilities/perform_linesearch.jl:47\n",
      "┌ Warning: Linesearch failed, using alpha = 0.07824876896798794 and exiting optimization.\n",
      "│ The linesearch exited with message:\n",
      "│ Linesearch failed to converge, reached maximum iterations 50.\n",
      "└ @ Optim ~/.julia/packages/Optim/U0b9c/src/utilities/perform_linesearch.jl:47\n"
     ]
    },
    {
     "name": "stdout",
     "output_type": "stream",
     "text": [
      "23.."
     ]
    },
    {
     "name": "stderr",
     "output_type": "stream",
     "text": [
      "┌ Warning: Linesearch failed, using alpha = 12.145391417012892 and exiting optimization.\n",
      "│ The linesearch exited with message:\n",
      "│ Linesearch failed to converge, reached maximum iterations 50.\n",
      "└ @ Optim ~/.julia/packages/Optim/U0b9c/src/utilities/perform_linesearch.jl:47\n",
      "┌ Warning: Linesearch failed, using alpha = 0.09561427735046998 and exiting optimization.\n",
      "│ The linesearch exited with message:\n",
      "│ Linesearch failed to converge, reached maximum iterations 50.\n",
      "└ @ Optim ~/.julia/packages/Optim/U0b9c/src/utilities/perform_linesearch.jl:47\n",
      "┌ Warning: Linesearch failed, using alpha = 0.019277888328316447 and exiting optimization.\n",
      "│ The linesearch exited with message:\n",
      "│ Linesearch failed to converge, reached maximum iterations 50.\n",
      "└ @ Optim ~/.julia/packages/Optim/U0b9c/src/utilities/perform_linesearch.jl:47\n",
      "┌ Warning: Linesearch failed, using alpha = 0.0733483600267898 and exiting optimization.\n",
      "│ The linesearch exited with message:\n",
      "│ Linesearch failed to converge, reached maximum iterations 50.\n",
      "└ @ Optim ~/.julia/packages/Optim/U0b9c/src/utilities/perform_linesearch.jl:47\n",
      "┌ Warning: Linesearch failed, using alpha = 0.08228800846909834 and exiting optimization.\n",
      "│ The linesearch exited with message:\n",
      "│ Linesearch failed to converge, reached maximum iterations 50.\n",
      "└ @ Optim ~/.julia/packages/Optim/U0b9c/src/utilities/perform_linesearch.jl:47\n",
      "┌ Warning: Linesearch failed, using alpha = 9.116333869164905e-13 and exiting optimization.\n",
      "│ The linesearch exited with message:\n",
      "│ Linesearch failed to converge, reached maximum iterations 50.\n",
      "└ @ Optim ~/.julia/packages/Optim/U0b9c/src/utilities/perform_linesearch.jl:47\n"
     ]
    },
    {
     "name": "stdout",
     "output_type": "stream",
     "text": [
      "24..25.."
     ]
    },
    {
     "name": "stderr",
     "output_type": "stream",
     "text": [
      "┌ Warning: Linesearch failed, using alpha = 0.012419632957455313 and exiting optimization.\n",
      "│ The linesearch exited with message:\n",
      "│ Linesearch failed to converge, reached maximum iterations 50.\n",
      "└ @ Optim ~/.julia/packages/Optim/U0b9c/src/utilities/perform_linesearch.jl:47\n",
      "┌ Warning: Linesearch failed, using alpha = 25.837777188984607 and exiting optimization.\n",
      "│ The linesearch exited with message:\n",
      "│ Linesearch failed to converge, reached maximum iterations 50.\n",
      "└ @ Optim ~/.julia/packages/Optim/U0b9c/src/utilities/perform_linesearch.jl:47\n",
      "┌ Warning: Linesearch failed, using alpha = 0.01935672626947948 and exiting optimization.\n",
      "│ The linesearch exited with message:\n",
      "│ Linesearch failed to converge, reached maximum iterations 50.\n",
      "└ @ Optim ~/.julia/packages/Optim/U0b9c/src/utilities/perform_linesearch.jl:47\n"
     ]
    },
    {
     "name": "stdout",
     "output_type": "stream",
     "text": [
      "26.."
     ]
    },
    {
     "name": "stderr",
     "output_type": "stream",
     "text": [
      "┌ Warning: Linesearch failed, using alpha = 0.048337664182488346 and exiting optimization.\n",
      "│ The linesearch exited with message:\n",
      "│ Linesearch failed to converge, reached maximum iterations 50.\n",
      "└ @ Optim ~/.julia/packages/Optim/U0b9c/src/utilities/perform_linesearch.jl:47\n"
     ]
    },
    {
     "name": "stdout",
     "output_type": "stream",
     "text": [
      "27.."
     ]
    },
    {
     "name": "stderr",
     "output_type": "stream",
     "text": [
      "┌ Warning: Linesearch failed, using alpha = 5.4743432275715074e-14 and exiting optimization.\n",
      "│ The linesearch exited with message:\n",
      "│ Linesearch failed to converge, reached maximum iterations 50.\n",
      "└ @ Optim ~/.julia/packages/Optim/U0b9c/src/utilities/perform_linesearch.jl:47\n",
      "┌ Warning: Linesearch failed, using alpha = 0.0146009173808024 and exiting optimization.\n",
      "│ The linesearch exited with message:\n",
      "│ Linesearch failed to converge, reached maximum iterations 50.\n",
      "└ @ Optim ~/.julia/packages/Optim/U0b9c/src/utilities/perform_linesearch.jl:47\n",
      "┌ Warning: Linesearch failed, using alpha = 0.02624765739160234 and exiting optimization.\n",
      "│ The linesearch exited with message:\n",
      "│ Linesearch failed to converge, reached maximum iterations 50.\n",
      "└ @ Optim ~/.julia/packages/Optim/U0b9c/src/utilities/perform_linesearch.jl:47\n",
      "┌ Warning: Linesearch failed, using alpha = 20.743522092646263 and exiting optimization.\n",
      "│ The linesearch exited with message:\n",
      "│ Linesearch failed to converge, reached maximum iterations 50.\n",
      "└ @ Optim ~/.julia/packages/Optim/U0b9c/src/utilities/perform_linesearch.jl:47\n"
     ]
    },
    {
     "name": "stdout",
     "output_type": "stream",
     "text": [
      "28.."
     ]
    },
    {
     "name": "stderr",
     "output_type": "stream",
     "text": [
      "┌ Warning: Linesearch failed, using alpha = 0.018512558486523563 and exiting optimization.\n",
      "│ The linesearch exited with message:\n",
      "│ Linesearch failed to converge, reached maximum iterations 50.\n",
      "└ @ Optim ~/.julia/packages/Optim/U0b9c/src/utilities/perform_linesearch.jl:47\n",
      "┌ Warning: Linesearch failed, using alpha = 0.0036116172586021693 and exiting optimization.\n",
      "│ The linesearch exited with message:\n",
      "│ Linesearch failed to converge, reached maximum iterations 50.\n",
      "└ @ Optim ~/.julia/packages/Optim/U0b9c/src/utilities/perform_linesearch.jl:47\n"
     ]
    },
    {
     "name": "stdout",
     "output_type": "stream",
     "text": [
      "29.."
     ]
    },
    {
     "name": "stderr",
     "output_type": "stream",
     "text": [
      "┌ Warning: Linesearch failed, using alpha = 110.60804064742666 and exiting optimization.\n",
      "│ The linesearch exited with message:\n",
      "│ Linesearch failed to converge, reached maximum iterations 50.\n",
      "└ @ Optim ~/.julia/packages/Optim/U0b9c/src/utilities/perform_linesearch.jl:47\n",
      "┌ Warning: Linesearch failed, using alpha = 1.3403598375132737 and exiting optimization.\n",
      "│ The linesearch exited with message:\n",
      "│ Linesearch failed to converge, reached maximum iterations 50.\n",
      "└ @ Optim ~/.julia/packages/Optim/U0b9c/src/utilities/perform_linesearch.jl:47\n",
      "┌ Warning: Linesearch failed, using alpha = 0.09945492765072045 and exiting optimization.\n",
      "│ The linesearch exited with message:\n",
      "│ Linesearch failed to converge, reached maximum iterations 50.\n",
      "└ @ Optim ~/.julia/packages/Optim/U0b9c/src/utilities/perform_linesearch.jl:47\n",
      "┌ Warning: Linesearch failed, using alpha = 0.006867351220800741 and exiting optimization.\n",
      "│ The linesearch exited with message:\n",
      "│ Linesearch failed to converge, reached maximum iterations 50.\n",
      "└ @ Optim ~/.julia/packages/Optim/U0b9c/src/utilities/perform_linesearch.jl:47\n",
      "┌ Warning: Linesearch failed, using alpha = 0.024073643099005903 and exiting optimization.\n",
      "│ The linesearch exited with message:\n",
      "│ Linesearch failed to converge, reached maximum iterations 50.\n",
      "└ @ Optim ~/.julia/packages/Optim/U0b9c/src/utilities/perform_linesearch.jl:47\n",
      "┌ Warning: Linesearch failed, using alpha = 0.07810792129702089 and exiting optimization.\n",
      "│ The linesearch exited with message:\n",
      "│ Linesearch failed to converge, reached maximum iterations 50.\n",
      "└ @ Optim ~/.julia/packages/Optim/U0b9c/src/utilities/perform_linesearch.jl:47\n",
      "┌ Warning: Linesearch failed, using alpha = 0.019906085769566078 and exiting optimization.\n",
      "│ The linesearch exited with message:\n",
      "│ Linesearch failed to converge, reached maximum iterations 50.\n",
      "└ @ Optim ~/.julia/packages/Optim/U0b9c/src/utilities/perform_linesearch.jl:47\n",
      "┌ Warning: Linesearch failed, using alpha = 25.136114716744572 and exiting optimization.\n",
      "│ The linesearch exited with message:\n",
      "│ Linesearch failed to converge, reached maximum iterations 50.\n",
      "└ @ Optim ~/.julia/packages/Optim/U0b9c/src/utilities/perform_linesearch.jl:47\n"
     ]
    },
    {
     "name": "stdout",
     "output_type": "stream",
     "text": [
      "1343.197915742312"
     ]
    }
   ],
   "source": [
    "\n",
    "#compute unbiased per subject marginal likelihoods via cross validation.\n",
    "liks = loocv(df, subs, x, X, betas, sigma, rl_model; emtol=emtol, parallel=parallel, full=full)\n",
    "\n",
    "print(sum(liks))\n"
   ]
  },
  {
   "cell_type": "markdown",
   "metadata": {},
   "source": [
    "### Write loocv scores to csv file and save\n",
    "\n",
    "(if you have run loocv above)"
   ]
  },
  {
   "cell_type": "code",
   "execution_count": 10,
   "metadata": {},
   "outputs": [
    {
     "data": {
      "text/plain": [
       "\"loocv_scores.csv\""
      ]
     },
     "execution_count": 10,
     "metadata": {},
     "output_type": "execute_result"
    }
   ],
   "source": [
    "\n",
    "#put loocv scores into dataframe\n",
    "loocv_scores = DataFrame(sub = subs,\n",
    "liks = vec(liks));\n",
    "\n",
    "CSV.write(\"loocv_scores.csv\", DataFrame(loocv_scores))\n"
   ]
  },
  {
   "cell_type": "markdown",
   "metadata": {},
   "source": [
    "### Calculate and write p values, std error and covariance"
   ]
  },
  {
   "cell_type": "code",
   "execution_count": 11,
   "metadata": {},
   "outputs": [],
   "source": [
    "\n",
    "# standard errors on the subject-level means, based on an asymptotic Gaussian approx \n",
    "# (these may be inflated esp for small n)\n",
    "(standarderrors, pvalues, covmtx) = emerrors(df, subs, x, X, h, betas, sigma, rl_model);\n"
   ]
  },
  {
   "cell_type": "code",
   "execution_count": 12,
   "metadata": {},
   "outputs": [],
   "source": [
    "\n",
    "model_stats = DataFrame(stderror = vec(standarderrors),\n",
    "pvalues = vec(pvalues),\n",
    "covmtx_1 = vec(covmtx[:,1]),\n",
    "covmtx_2 = vec(covmtx[:,2]),\n",
    "covmtx_3 = vec(covmtx[:,3]));\n",
    "\n",
    "# save model stats to csv file\n",
    "CSV.write(\"model_stats.csv\", DataFrame(model_stats));\n"
   ]
  },
  {
   "cell_type": "markdown",
   "metadata": {},
   "source": [
    "### Write per subject model parameters to csv files and save"
   ]
  },
  {
   "cell_type": "code",
   "execution_count": 13,
   "metadata": {},
   "outputs": [
    {
     "data": {
      "text/plain": [
       "\"subject_params.csv\""
      ]
     },
     "execution_count": 13,
     "metadata": {},
     "output_type": "execute_result"
    }
   ],
   "source": [
    "\n",
    "# put parameters into variable d\n",
    "d=x;\n",
    "\n",
    "# now put parameters into dataframe\n",
    "params = DataFrame(sub = subs,\n",
    "slope = vec(d[:,1]), \n",
    "w_raw = vec(d[:,2]),\n",
    "lr_raw = vec(d[:, 3]));\n",
    "\n",
    "CSV.write(\"subject_params.csv\", DataFrame(params))\n"
   ]
  },
  {
   "cell_type": "code",
   "execution_count": null,
   "metadata": {},
   "outputs": [],
   "source": []
  },
  {
   "cell_type": "code",
   "execution_count": null,
   "metadata": {},
   "outputs": [],
   "source": [
    "# initialize parameter structures once again\n",
    "#(df, subs, X, betas, sigma) = genVars(df, 3);\n",
    "\n",
    "# initalise this - will store all trial to trial parameters\n",
    "trial_data_compile = [];\n",
    "\n",
    "# run model for each subject using best fit parameters\n",
    "for x = 1:length(subs)\n",
    "\n",
    "    # pull out optimal betas for subject - these are used in the model\n",
    "    # note: you want the unconverted learning score to be fed in\n",
    "    betas_sub = convert(Array, params[x, [:slope, :w_raw, :lr_raw]])\n",
    "    data_sub = df[df[:sub].==subs[x], :]\n",
    "    \n",
    "    # run model using these parameters - note must have commented in the model to return all of these variables (and not only -lik)\n",
    "    (minus_li, trial_data) = rl_model(betas_sub, data_sub)\n",
    "    \n",
    "    if x.==1\n",
    "        \n",
    "        trial_data_compile = trial_data\n",
    "        \n",
    "    else\n",
    "        \n",
    "        append!(trial_data_compile, trial_data)\n",
    "        \n",
    "    end\n",
    " \n",
    "end\n",
    "# check these are all the same sizes\n",
    "print(size(df))\n",
    "print(size(trial_data_compile))\n",
    "    \n",
    "# print header of data compile\n",
    "head(trial_data_compile)\n",
    "\n",
    "CSV.write(\"trial_by_trial_vals.csv\", DataFrame(trial_data_compile))"
   ]
  }
 ],
 "metadata": {
  "kernelspec": {
   "display_name": "Julia 0.7.0",
   "language": "julia",
   "name": "julia-0.7"
  },
  "language_info": {
   "file_extension": ".jl",
   "mimetype": "application/julia",
   "name": "julia",
   "version": "0.7.0"
  },
  "toc": {
   "base_numbering": 1,
   "nav_menu": {},
   "number_sections": true,
   "sideBar": true,
   "skip_h1_title": false,
   "title_cell": "Table of Contents",
   "title_sidebar": "Contents",
   "toc_cell": false,
   "toc_position": {},
   "toc_section_display": true,
   "toc_window_display": false
  }
 },
 "nbformat": 4,
 "nbformat_minor": 1
}
